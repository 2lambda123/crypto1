{
 "cells": [
  {
   "cell_type": "markdown",
   "id": "c426d24d",
   "metadata": {},
   "source": [
    "# Elliptic Curve Integrated Encryption Scheme"
   ]
  },
  {
   "cell_type": "code",
   "execution_count": 1,
   "id": "f19f3cce",
   "metadata": {},
   "outputs": [],
   "source": [
    "from typing import Tuple\n",
    "from Crypto.Cipher import AES\n",
    "import base64\n",
    "import random"
   ]
  },
  {
   "cell_type": "code",
   "execution_count": 2,
   "id": "48638cc0",
   "metadata": {},
   "outputs": [],
   "source": [
    "def is_on_curve(P: Tuple[int, int], p: int):\n",
    "    x, y = P\n",
    "    assert ( (a*x*x)+(y*y) ) % p == (1 + d*x*x*y*y) % p\n",
    "\n",
    "def add_points(P: Tuple[int, int], Q: Tuple[int, int]): \n",
    "    x1, y1 = P\n",
    "    x2, y2 = Q\n",
    "    \n",
    "    x3 = (((x1*y2 + y1*x2) % p) * pow(1+d*x1*x2*y1*y2, -1, p)) % p\n",
    "    y3 = (((y1*y2 - a*x1*x2) % p) * pow(1- d*x1*x2*y1*y2, -1, p)) % p\n",
    "    \n",
    "    is_on_curve((x3, y3), p)\n",
    "    \n",
    "    return x3, y3\n",
    "    \n",
    "def apply_double_and_add_method(G: Tuple[int, int], k: int):\n",
    "    target_point = G\n",
    "    \n",
    "    k_binary = bin(k)[2:] #0b1111111001\n",
    "    \n",
    "    for i in range(1, len(k_binary)):\n",
    "        current_bit = k_binary[i: i+1]\n",
    "        \n",
    "        # doubling - always\n",
    "        target_point = add_points(target_point, target_point)\n",
    "        \n",
    "        if current_bit == \"1\":\n",
    "            target_point = add_points(target_point, G)\n",
    "    \n",
    "    is_on_curve(target_point, p)\n",
    "    \n",
    "    return target_point"
   ]
  },
  {
   "cell_type": "code",
   "execution_count": 3,
   "id": "06aca653",
   "metadata": {},
   "outputs": [],
   "source": [
    "# curve25519\n",
    "p = pow(2, 255) - 19\n",
    "\n",
    "# curve arguments for curve25519\n",
    "a = -1\n",
    "# d = -121665/121666\n",
    "d = -121665 * pow(121666, -1, p)\n",
    "\n",
    "# base point for curve25519\n",
    "G = (15112221349535400772501151409588531511454012693041857206046113283949847762202\n",
    ", 46316835694926478169428394003475163141307993866256225615783033603165251855960)"
   ]
  },
  {
   "cell_type": "code",
   "execution_count": 4,
   "id": "565de55b",
   "metadata": {},
   "outputs": [],
   "source": [
    "is_on_curve(G, p)"
   ]
  },
  {
   "cell_type": "markdown",
   "id": "e8a2de43",
   "metadata": {},
   "source": [
    "# Alice generates her private and public key pair"
   ]
  },
  {
   "cell_type": "code",
   "execution_count": 5,
   "id": "0a84c8f9",
   "metadata": {},
   "outputs": [],
   "source": [
    "# Alice's private key\n",
    "ka = random.getrandbits(256)\n",
    "\n",
    "# Alice's public key\n",
    "Qa = apply_double_and_add_method(G = G, k = ka)"
   ]
  },
  {
   "cell_type": "code",
   "execution_count": 6,
   "id": "51654695",
   "metadata": {},
   "outputs": [
    {
     "data": {
      "text/plain": [
       "66249982678655119476500490223593026659932278173556590885271747963233235118105"
      ]
     },
     "execution_count": 6,
     "metadata": {},
     "output_type": "execute_result"
    }
   ],
   "source": [
    "ka"
   ]
  },
  {
   "cell_type": "code",
   "execution_count": 7,
   "id": "4d447da2",
   "metadata": {},
   "outputs": [
    {
     "data": {
      "text/plain": [
       "(1005181306950165921473664928160402336356482915719284029317782011199811421698,\n",
       " 11155084437648835951367715742496979813363072105257144906550384866492421225154)"
      ]
     },
     "execution_count": 7,
     "metadata": {},
     "output_type": "execute_result"
    }
   ],
   "source": [
    "Qa"
   ]
  },
  {
   "cell_type": "markdown",
   "id": "4e5f14cd",
   "metadata": {},
   "source": [
    "# Bob generates a random integer and calculates 2 points"
   ]
  },
  {
   "cell_type": "code",
   "execution_count": 8,
   "id": "72b1ac33",
   "metadata": {},
   "outputs": [],
   "source": [
    "# Bob's random key\n",
    "rb = random.getrandbits(256)\n",
    "\n",
    "# send point R to Alice\n",
    "R = apply_double_and_add_method(G = G, k = rb)\n",
    "\n",
    "# keep point S secret and use it for symmetric encryption\n",
    "S = apply_double_and_add_method(G = Qa, k = rb)"
   ]
  },
  {
   "cell_type": "code",
   "execution_count": 9,
   "id": "f1d475ee",
   "metadata": {},
   "outputs": [
    {
     "data": {
      "text/plain": [
       "104472488918774060848944047765065040208372829090255552015623908500628247701762"
      ]
     },
     "execution_count": 9,
     "metadata": {},
     "output_type": "execute_result"
    }
   ],
   "source": [
    "rb"
   ]
  },
  {
   "cell_type": "code",
   "execution_count": 10,
   "id": "d8c16fbf",
   "metadata": {},
   "outputs": [
    {
     "data": {
      "text/plain": [
       "(7212105680152557366601139353728729848125686331499091131399543418853927346320,\n",
       " 50172703301935435609180632539621854881248044128731854794076177553673352279286)"
      ]
     },
     "execution_count": 10,
     "metadata": {},
     "output_type": "execute_result"
    }
   ],
   "source": [
    "R"
   ]
  },
  {
   "cell_type": "code",
   "execution_count": 11,
   "id": "23b0c810",
   "metadata": {},
   "outputs": [
    {
     "data": {
      "text/plain": [
       "(5928721286767736012656058470842491468042361782544900814876074735103986730326,\n",
       " 46643010645291019550172702422507582065206154375688286175779380030276146704100)"
      ]
     },
     "execution_count": 11,
     "metadata": {},
     "output_type": "execute_result"
    }
   ],
   "source": [
    "S"
   ]
  },
  {
   "cell_type": "markdown",
   "id": "9fea0aed",
   "metadata": {},
   "source": [
    "# Bob sends point R to Alice"
   ]
  },
  {
   "cell_type": "code",
   "execution_count": 12,
   "id": "40c6867e",
   "metadata": {},
   "outputs": [],
   "source": [
    "# Alice receives R and finds ka x R\n",
    "S_prime = apply_double_and_add_method(G = R, k = ka)"
   ]
  },
  {
   "cell_type": "code",
   "execution_count": 13,
   "id": "10bdf7a8",
   "metadata": {},
   "outputs": [
    {
     "data": {
      "text/plain": [
       "(5928721286767736012656058470842491468042361782544900814876074735103986730326,\n",
       " 46643010645291019550172702422507582065206154375688286175779380030276146704100)"
      ]
     },
     "execution_count": 13,
     "metadata": {},
     "output_type": "execute_result"
    }
   ],
   "source": [
    "S_prime"
   ]
  },
  {
   "cell_type": "code",
   "execution_count": 14,
   "id": "3e012a15",
   "metadata": {},
   "outputs": [],
   "source": [
    "assert S == S_prime"
   ]
  },
  {
   "cell_type": "markdown",
   "id": "1642ac7f",
   "metadata": {},
   "source": [
    "# symmetric key encryption (Bob)"
   ]
  },
  {
   "cell_type": "code",
   "execution_count": 15,
   "id": "8f10d006",
   "metadata": {},
   "outputs": [],
   "source": [
    "msg = \"attack tomorrow!\""
   ]
  },
  {
   "cell_type": "code",
   "execution_count": 16,
   "id": "b14dee55",
   "metadata": {},
   "outputs": [],
   "source": [
    "obj_bob = AES.new(str(S)[0:32])"
   ]
  },
  {
   "cell_type": "code",
   "execution_count": 17,
   "id": "7e6f5607",
   "metadata": {},
   "outputs": [],
   "source": [
    "ciphertext = base64.b64encode(obj_bob.encrypt(msg))"
   ]
  },
  {
   "cell_type": "code",
   "execution_count": 18,
   "id": "f938a1aa",
   "metadata": {},
   "outputs": [
    {
     "data": {
      "text/plain": [
       "b'Iola5ayKWzcCgx9xG+G/Sw=='"
      ]
     },
     "execution_count": 18,
     "metadata": {},
     "output_type": "execute_result"
    }
   ],
   "source": [
    "ciphertext"
   ]
  },
  {
   "cell_type": "markdown",
   "id": "a94a1e63",
   "metadata": {},
   "source": [
    "# symmetric key decryption (Alice)"
   ]
  },
  {
   "cell_type": "code",
   "execution_count": 19,
   "id": "d57455f2",
   "metadata": {},
   "outputs": [],
   "source": [
    "obj_alice = AES.new(str(S)[0:32])"
   ]
  },
  {
   "cell_type": "code",
   "execution_count": 20,
   "id": "50b5dcc8",
   "metadata": {},
   "outputs": [],
   "source": [
    "plaintext = obj_alice.decrypt(base64.b64decode(ciphertext))"
   ]
  },
  {
   "cell_type": "code",
   "execution_count": 21,
   "id": "e6be149d",
   "metadata": {},
   "outputs": [
    {
     "data": {
      "text/plain": [
       "b'attack tomorrow!'"
      ]
     },
     "execution_count": 21,
     "metadata": {},
     "output_type": "execute_result"
    }
   ],
   "source": [
    "plaintext"
   ]
  },
  {
   "cell_type": "code",
   "execution_count": null,
   "id": "00f13a4e",
   "metadata": {},
   "outputs": [],
   "source": []
  }
 ],
 "metadata": {
  "kernelspec": {
   "display_name": "Python 3 (ipykernel)",
   "language": "python",
   "name": "python3"
  },
  "language_info": {
   "codemirror_mode": {
    "name": "ipython",
    "version": 3
   },
   "file_extension": ".py",
   "mimetype": "text/x-python",
   "name": "python",
   "nbconvert_exporter": "python",
   "pygments_lexer": "ipython3",
   "version": "3.8.12"
  }
 },
 "nbformat": 4,
 "nbformat_minor": 5
}
