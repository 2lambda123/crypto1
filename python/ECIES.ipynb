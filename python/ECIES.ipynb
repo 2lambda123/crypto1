{
 "cells": [
  {
   "cell_type": "markdown",
   "id": "c426d24d",
   "metadata": {},
   "source": [
    "# Elliptic Curve Integrated Encryption Scheme (ECIES)"
   ]
  },
  {
   "cell_type": "code",
   "execution_count": 1,
   "id": "f19f3cce",
   "metadata": {
    "scrolled": true
   },
   "outputs": [],
   "source": [
    "import base64\n",
    "import random\n",
    "from typing import Tuple\n",
    "from Crypto.Cipher import AES\n",
    "import hashlib\n",
    "import hmac"
   ]
  },
  {
   "cell_type": "markdown",
   "id": "5e1de6a1",
   "metadata": {},
   "source": [
    "# Elliptic Curve Form - Twisted Edwards"
   ]
  },
  {
   "cell_type": "code",
   "execution_count": 2,
   "id": "48638cc0",
   "metadata": {
    "scrolled": true
   },
   "outputs": [],
   "source": [
    "def is_on_curve(P: Tuple[int, int], p: int):\n",
    "    x, y = P\n",
    "    assert ( (a*x*x)+(y*y) ) % p == (1 + d*x*x*y*y) % p\n",
    "\n",
    "def add_points(P: Tuple[int, int], Q: Tuple[int, int]): \n",
    "    \"\"\"\n",
    "    Edwards addition formulas\n",
    "    Ref: sefiks.com/2018/12/26/twisted-edwards-curves\n",
    "    \"\"\"\n",
    "    x1, y1 = P\n",
    "    x2, y2 = Q\n",
    "    \n",
    "    x3 = (((x1*y2 + y1*x2) % p) * pow(1+d*x1*x2*y1*y2, -1, p)) % p\n",
    "    y3 = (((y1*y2 - a*x1*x2) % p) * pow(1- d*x1*x2*y1*y2, -1, p)) % p\n",
    "    \n",
    "    is_on_curve((x3, y3), p)\n",
    "    \n",
    "    return x3, y3\n",
    "    \n",
    "def apply_double_and_add_method(G: Tuple[int, int], k: int):\n",
    "    \"\"\"\n",
    "    performs k x G fast where G is a point on an elliptic curve\n",
    "    Ref: sefiks.com/2016/03/27/double-and-add-method/\n",
    "    \"\"\"\n",
    "    target_point = G\n",
    "    \n",
    "    k_binary = bin(k)[2:] #0b1111111001 - discard first 2 chars\n",
    "    \n",
    "    for i in range(1, len(k_binary)):\n",
    "        current_bit = k_binary[i: i+1]\n",
    "        \n",
    "        # doubling - always\n",
    "        target_point = add_points(target_point, target_point)\n",
    "        \n",
    "        # add base point if it is equal to 1\n",
    "        if current_bit == \"1\":\n",
    "            target_point = add_points(target_point, G)\n",
    "    \n",
    "    is_on_curve(target_point, p)\n",
    "    \n",
    "    return target_point"
   ]
  },
  {
   "cell_type": "markdown",
   "id": "e4a06fa0",
   "metadata": {},
   "source": [
    "# Curve"
   ]
  },
  {
   "cell_type": "code",
   "execution_count": 3,
   "id": "06aca653",
   "metadata": {
    "scrolled": true
   },
   "outputs": [],
   "source": [
    "# curve25519\n",
    "p = pow(2, 255) - 19\n",
    "\n",
    "# curve arguments for curve25519\n",
    "a = -1\n",
    "# d = -121665/121666\n",
    "d = -121665 * pow(121666, -1, p)\n",
    "\n",
    "# base point for curve25519\n",
    "G = (15112221349535400772501151409588531511454012693041857206046113283949847762202\n",
    ", 46316835694926478169428394003475163141307993866256225615783033603165251855960)"
   ]
  },
  {
   "cell_type": "code",
   "execution_count": 4,
   "id": "565de55b",
   "metadata": {
    "scrolled": true
   },
   "outputs": [],
   "source": [
    "# validate base point is on curve25519\n",
    "is_on_curve(G, p)"
   ]
  },
  {
   "cell_type": "markdown",
   "id": "e8a2de43",
   "metadata": {},
   "source": [
    "# Alice generates her private and public key pair"
   ]
  },
  {
   "cell_type": "code",
   "execution_count": 5,
   "id": "0a84c8f9",
   "metadata": {
    "scrolled": true
   },
   "outputs": [],
   "source": [
    "# Alice's private key\n",
    "ka = random.getrandbits(256)\n",
    "\n",
    "# Alice's public key\n",
    "Qa = apply_double_and_add_method(G = G, k = ka)"
   ]
  },
  {
   "cell_type": "code",
   "execution_count": 6,
   "id": "51654695",
   "metadata": {
    "scrolled": true
   },
   "outputs": [
    {
     "data": {
      "text/plain": [
       "112870149083640627922774909436250781024307780202325514769567925678767588972712"
      ]
     },
     "execution_count": 6,
     "metadata": {},
     "output_type": "execute_result"
    }
   ],
   "source": [
    "ka"
   ]
  },
  {
   "cell_type": "code",
   "execution_count": 7,
   "id": "4d447da2",
   "metadata": {
    "scrolled": true
   },
   "outputs": [
    {
     "data": {
      "text/plain": [
       "(9549143089063042697223239628661024736940666206906515834708689969270296464632,\n",
       " 52204807015919058933768597571088736428556521267634701921407995846661422840267)"
      ]
     },
     "execution_count": 7,
     "metadata": {},
     "output_type": "execute_result"
    }
   ],
   "source": [
    "Qa"
   ]
  },
  {
   "cell_type": "markdown",
   "id": "47f12828",
   "metadata": {},
   "source": [
    "# Bob will encrypt a message and send it to Alice"
   ]
  },
  {
   "cell_type": "code",
   "execution_count": 8,
   "id": "d0c46f06",
   "metadata": {},
   "outputs": [],
   "source": [
    "# Bob is going to send this message to Alice encrypted\n",
    "msg = \"attack tomorrow!\""
   ]
  },
  {
   "cell_type": "markdown",
   "id": "4e5f14cd",
   "metadata": {},
   "source": [
    "# Bob generates a random integer and calculates 2 points"
   ]
  },
  {
   "cell_type": "code",
   "execution_count": 9,
   "id": "72b1ac33",
   "metadata": {
    "scrolled": true
   },
   "outputs": [],
   "source": [
    "# Bob's random key\n",
    "rb = random.getrandbits(256)\n",
    "\n",
    "# Point U will be sent to Alice\n",
    "U = apply_double_and_add_method(G = G, k = rb)\n",
    "\n",
    "# Point T will keep secret and use for encryption purposes\n",
    "T = apply_double_and_add_method(G = Qa, k = rb)"
   ]
  },
  {
   "cell_type": "code",
   "execution_count": 10,
   "id": "f1d475ee",
   "metadata": {
    "scrolled": true
   },
   "outputs": [
    {
     "data": {
      "text/plain": [
       "81751249801823981867964623507503649987210599900252526846840002074092366439896"
      ]
     },
     "execution_count": 10,
     "metadata": {},
     "output_type": "execute_result"
    }
   ],
   "source": [
    "rb"
   ]
  },
  {
   "cell_type": "code",
   "execution_count": 11,
   "id": "d8c16fbf",
   "metadata": {
    "scrolled": true
   },
   "outputs": [
    {
     "data": {
      "text/plain": [
       "(50950721826062822139675298288118907415968087726432986571287178857048679687064,\n",
       " 26912672306608416006808820050479278980714318177594911685651683324551173867059)"
      ]
     },
     "execution_count": 11,
     "metadata": {},
     "output_type": "execute_result"
    }
   ],
   "source": [
    "U"
   ]
  },
  {
   "cell_type": "code",
   "execution_count": 12,
   "id": "23b0c810",
   "metadata": {
    "scrolled": true
   },
   "outputs": [
    {
     "data": {
      "text/plain": [
       "(161144920723414281828628334350547930452448257108707563815663855898935350171,\n",
       " 45450734318154808352043578096559688588205658174186655863223258770672925833422)"
      ]
     },
     "execution_count": 12,
     "metadata": {},
     "output_type": "execute_result"
    }
   ],
   "source": [
    "T"
   ]
  },
  {
   "cell_type": "markdown",
   "id": "f8b1b2c1",
   "metadata": {},
   "source": [
    "# Key Derivation Function"
   ]
  },
  {
   "cell_type": "code",
   "execution_count": 13,
   "id": "70e67d85",
   "metadata": {},
   "outputs": [],
   "source": [
    "# this function will be public\n",
    "def derive_keys(T):   \n",
    "    # He uses sha-256 to hash 192-bit x coordinate of point T\n",
    "    tx, ty = T\n",
    "    # get x coordinate of point T\n",
    "    tx_binary = bin(tx)[2:]\n",
    "    # get its first 192-bit value\n",
    "    tx_binary_cropped = tx_binary[0:192]\n",
    "    # restore 192-bit x coordinate\n",
    "    tx_restored = str(int(tx_binary_cropped, 2))\n",
    "    # use sha-156 to hash\n",
    "    hashed_tx = bin(int(hashlib.sha256(str.encode(tx_restored)).hexdigest(), 16))[2:]\n",
    "\n",
    "    assert len(hashed_tx) == 256\n",
    "\n",
    "    # split the hash into 128-bit and 128-bit as k1 and k2\n",
    "\n",
    "    k1 = int(hashed_tx[0:128], 2).to_bytes(16, byteorder='big')\n",
    "    k2 = int(hashed_tx[128:], 2).to_bytes(16, byteorder='big')\n",
    "    \n",
    "    return k1, k2"
   ]
  },
  {
   "cell_type": "code",
   "execution_count": 14,
   "id": "bdca1e82",
   "metadata": {},
   "outputs": [],
   "source": [
    "k1, k2 = derive_keys(T)"
   ]
  },
  {
   "cell_type": "code",
   "execution_count": 15,
   "id": "f22a921b",
   "metadata": {},
   "outputs": [
    {
     "data": {
      "text/plain": [
       "b'\\xd1<\\x14}\\xb3\\x8a*d\\xce\"\\xa0|\\x10\\xbd\\x1aR'"
      ]
     },
     "execution_count": 15,
     "metadata": {},
     "output_type": "execute_result"
    }
   ],
   "source": [
    "k1"
   ]
  },
  {
   "cell_type": "code",
   "execution_count": 16,
   "id": "8c51b9fd",
   "metadata": {},
   "outputs": [
    {
     "data": {
      "text/plain": [
       "b'h\\x95\\xb9\\xf4k\\xec\\x96\\xf6\\xe0\\xf11\\xd7\\xb2\\x88{\\xb1'"
      ]
     },
     "execution_count": 16,
     "metadata": {},
     "output_type": "execute_result"
    }
   ],
   "source": [
    "k2"
   ]
  },
  {
   "cell_type": "markdown",
   "id": "4a9b56df",
   "metadata": {},
   "source": [
    "# Encryption"
   ]
  },
  {
   "cell_type": "code",
   "execution_count": 17,
   "id": "b4daf8cb",
   "metadata": {},
   "outputs": [],
   "source": [
    "# Bob uses k1 to encrypt a message m with aes-128 and obtain c\n",
    "obj_bob = AES.new(k1)\n",
    "c = base64.b64encode(obj_bob.encrypt(msg))"
   ]
  },
  {
   "cell_type": "code",
   "execution_count": 18,
   "id": "3a5c3d67",
   "metadata": {},
   "outputs": [
    {
     "data": {
      "text/plain": [
       "b'zJjqUeBg957NYLcIZOiFjg=='"
      ]
     },
     "execution_count": 18,
     "metadata": {},
     "output_type": "execute_result"
    }
   ],
   "source": [
    "c"
   ]
  },
  {
   "cell_type": "code",
   "execution_count": 19,
   "id": "43a14020",
   "metadata": {},
   "outputs": [],
   "source": [
    "# Bob chooses HMAC-SHA256 to calculate a message authentication code (MAC) r with key k2\n",
    "def find_mac(message, key):\n",
    "    return hmac.new(\n",
    "        key, \n",
    "        message, \n",
    "        hashlib.sha256\n",
    "    ).hexdigest()\n",
    "\n",
    "r = find_mac(c, k2)"
   ]
  },
  {
   "cell_type": "code",
   "execution_count": 20,
   "id": "b44d6ee9",
   "metadata": {},
   "outputs": [
    {
     "data": {
      "text/plain": [
       "'941bf6eb33580bda3afe66ba75fb0d82b9fa8c0a737d2c77e8cb124b70ec0fe9'"
      ]
     },
     "execution_count": 20,
     "metadata": {},
     "output_type": "execute_result"
    }
   ],
   "source": [
    "r"
   ]
  },
  {
   "cell_type": "code",
   "execution_count": 21,
   "id": "7089c404",
   "metadata": {},
   "outputs": [],
   "source": [
    "# Bob finally sends Alice (U, c, r)\n",
    "ciphertext = (U, c, r)"
   ]
  },
  {
   "cell_type": "code",
   "execution_count": 22,
   "id": "b0683a30",
   "metadata": {},
   "outputs": [
    {
     "data": {
      "text/plain": [
       "((50950721826062822139675298288118907415968087726432986571287178857048679687064,\n",
       "  26912672306608416006808820050479278980714318177594911685651683324551173867059),\n",
       " b'zJjqUeBg957NYLcIZOiFjg==',\n",
       " '941bf6eb33580bda3afe66ba75fb0d82b9fa8c0a737d2c77e8cb124b70ec0fe9')"
      ]
     },
     "execution_count": 22,
     "metadata": {},
     "output_type": "execute_result"
    }
   ],
   "source": [
    "ciphertext"
   ]
  },
  {
   "cell_type": "markdown",
   "id": "9fea0aed",
   "metadata": {},
   "source": [
    "# Alice gets (U, c, r) from Bob\n",
    "\n",
    "Alice can find Point T even though Bob did not send this to her. Let's remember the calculations Bob performed.\n",
    "\n",
    "- U = rb x G \n",
    "- T = rb x Qa\n",
    "\n",
    "Public key of Alice was calculated as Qa = ka x G\n",
    "\n",
    "- T = rb x ka x G\n",
    "\n",
    "Here, we can replace rb x G to Point U\n",
    "\n",
    "- T = ka x U\n",
    "\n",
    "So, if Alice finds ka x U, then she will have Point T even though this is not shared to her"
   ]
  },
  {
   "cell_type": "code",
   "execution_count": 23,
   "id": "40c6867e",
   "metadata": {
    "scrolled": true
   },
   "outputs": [],
   "source": [
    "# Alice receives U and finds ka x U\n",
    "T_prime = apply_double_and_add_method(G = U, k = ka)"
   ]
  },
  {
   "cell_type": "code",
   "execution_count": 24,
   "id": "10bdf7a8",
   "metadata": {
    "scrolled": true
   },
   "outputs": [
    {
     "data": {
      "text/plain": [
       "(161144920723414281828628334350547930452448257108707563815663855898935350171,\n",
       " 45450734318154808352043578096559688588205658174186655863223258770672925833422)"
      ]
     },
     "execution_count": 24,
     "metadata": {},
     "output_type": "execute_result"
    }
   ],
   "source": [
    "T_prime"
   ]
  },
  {
   "cell_type": "code",
   "execution_count": 25,
   "id": "3e012a15",
   "metadata": {
    "scrolled": true
   },
   "outputs": [],
   "source": [
    "assert T == T_prime"
   ]
  },
  {
   "cell_type": "code",
   "execution_count": 26,
   "id": "a3d84245",
   "metadata": {},
   "outputs": [],
   "source": [
    "# Alice uses same key derivation function to obtain k1, k2\n",
    "k1_prime, k2_prime = derive_keys(T_prime)"
   ]
  },
  {
   "cell_type": "code",
   "execution_count": 29,
   "id": "a1fda0b0",
   "metadata": {},
   "outputs": [],
   "source": [
    "# Alice computes MAC using k2 and compares the result with r\n",
    "assert r == find_mac(c, k2_prime)"
   ]
  },
  {
   "cell_type": "code",
   "execution_count": 30,
   "id": "c1a7e647",
   "metadata": {},
   "outputs": [],
   "source": [
    "# Alice uses 128-bit AES to decrypt c, and he obtains original message\n",
    "obj_alice = AES.new(k1_prime)\n",
    "plaintext = obj_alice.decrypt(base64.b64decode(c))"
   ]
  },
  {
   "cell_type": "code",
   "execution_count": 31,
   "id": "09612de3",
   "metadata": {},
   "outputs": [
    {
     "data": {
      "text/plain": [
       "b'attack tomorrow!'"
      ]
     },
     "execution_count": 31,
     "metadata": {},
     "output_type": "execute_result"
    }
   ],
   "source": [
    "plaintext"
   ]
  },
  {
   "cell_type": "code",
   "execution_count": null,
   "id": "2510d466",
   "metadata": {},
   "outputs": [],
   "source": []
  }
 ],
 "metadata": {
  "kernelspec": {
   "display_name": "Python 3 (ipykernel)",
   "language": "python",
   "name": "python3"
  },
  "language_info": {
   "codemirror_mode": {
    "name": "ipython",
    "version": 3
   },
   "file_extension": ".py",
   "mimetype": "text/x-python",
   "name": "python",
   "nbconvert_exporter": "python",
   "pygments_lexer": "ipython3",
   "version": "3.8.12"
  }
 },
 "nbformat": 4,
 "nbformat_minor": 5
}
