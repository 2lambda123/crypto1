{
 "cells": [
  {
   "cell_type": "code",
   "execution_count": 1,
   "metadata": {},
   "outputs": [],
   "source": [
    "key = {\n",
    "    \"a\": [\"09\", \"12\", \"33\", \"47\", \"53\", \"67\", \"78\", \"92\"],\n",
    "    \"b\": [\"48\", \"81\"],\n",
    "    \"c\": [\"13\", \"41\", \"62\"],\n",
    "    \"d\": [\"01\", \"03\", \"45\", \"79\"],\n",
    "    \"e\": [\"14\", \"16\", \"24\", \"44\", \"46\", \"55\", \"57\", \"64\", \"74\", \"82\", \"87\", \"98\"],\n",
    "    \"f\": [\"10\", \"31\"],\n",
    "    \"g\": [\"06\", \"25\"],\n",
    "    \"h\": [\"23\", \"39\", \"50\", \"56\", \"65\", \"68\"],\n",
    "    \"i\": [\"32\", \"70\", \"73\", \"83\", \"88\", \"93\"],\n",
    "    \"j\": [\"15\"],\n",
    "    \"k\": [\"04\"],\n",
    "    \"l\": [\"26\", \"37\", \"51\", \"84\"],\n",
    "    \"m\": [\"22\", \"27\"],\n",
    "    \"n\": [\"18\", \"58\", \"59\", \"66\", \"71\", \"91\"],\n",
    "    \"o\": [\"00\", \"05\", \"07\", \"54\", \"72\", \"90\", \"99\"],\n",
    "    \"p\": [\"38\", \"95\"],\n",
    "    \"q\": [\"94\"],\n",
    "    \"r\": [\"29\", \"35\", \"40\", \"42\", \"77\", \"80\"],\n",
    "    \"s\": [\"11\", \"19\", \"36\", \"76\", \"86\", \"96\"],\n",
    "    \"t\": [\"17\", \"20\", \"30\", \"43\", \"49\", \"69\", \"75\", \"85\", \"97\"],\n",
    "    \"u\": [\"08\", \"61\", \"63\"],\n",
    "    \"v\": [\"34\"],\n",
    "    \"w\": [\"60\", \"89\"],\n",
    "    \"x\": [\"28\"],\n",
    "    \"y\": [\"21\", \"52\"],\n",
    "    \"z\": [\"02\"]\n",
    "}"
   ]
  },
  {
   "cell_type": "code",
   "execution_count": 2,
   "metadata": {},
   "outputs": [],
   "source": [
    "m = \"To be or not to be that is the question Whether tis nobler in the mind to suffer The slings and arrows of outrageous fortune Or to take arms against a sea of troubles And by opposing end them To die to sleep No more and by a sleep to say we end The heart ache and the thousand natural shocks That flesh is heir to tis a consummation Devoutly to be wishd To die to sleep To sleep perchance to dream ay theres the rub For in that sleep of death what dreams may come When we have shuffled off this mortal coil Must give us pause theres the respect That makes calamity of so long life For who would bear the whips and scorns of time Thoppressors wrong the proud mans contumely The pangs of disprizd love the laws delay The insolence of office and the spurns That patient merit of thunworthy takes When he himself might his quietus make With a bare bodkin Who would fardels bear To grunt and sweat under a weary life But that the dread of something after death The undiscovered country from whose bourn No traveller returns puzzles the will And makes us rather bear those ills we have Than fly to others that we know not of Thus conscience does make cowards of us all And thus the native hue of resolution Is sicklied oer with the pale cast of thought And enterprises of great pitch and moment With this regard their currents turn awry And lose the name of action\""
   ]
  },
  {
   "cell_type": "code",
   "execution_count": 18,
   "metadata": {},
   "outputs": [],
   "source": [
    "import commons\n",
    "import random\n",
    "import pandas as pd"
   ]
  },
  {
   "cell_type": "code",
   "execution_count": 4,
   "metadata": {},
   "outputs": [],
   "source": [
    "m = commons.preprocessing(m)"
   ]
  },
  {
   "cell_type": "code",
   "execution_count": 5,
   "metadata": {},
   "outputs": [
    {
     "data": {
      "text/plain": [
       "'tobeornottobethatisthequestionwhethertisnoblerinthemindtosuffertheslingsandarrowsofoutrageousfortuneortotakearmsagainstaseaoftroublesandbyopposingendthemtodietosleepnomoreandbyasleeptosayweendtheheartacheandthethousandnaturalshocksthatfleshisheirtotisaconsummationdevoutlytobewishdtodietosleeptosleepperchancetodreamaytherestherubforinthatsleepofdeathwhatdreamsmaycomewhenwehaveshuffledoffthismortalcoilmustgiveuspausetherestherespectthatmakescalamityofsolonglifeforwhowouldbearthewhipsandscornsoftimethoppressorswrongtheproudmanscontumelythepangsofdisprizdlovethelawsdelaytheinsolenceofofficeandthespurnsthatpatientmeritofthunworthytakeswhenhehimselfmighthisquietusmakewithabarebodkinwhowouldfardelsbeartogruntandsweatunderawearylifebutthatthedreadofsomethingafterdeaththeundiscoveredcountryfromwhosebournnotravellerreturnspuzzlesthewillandmakesusratherbearthoseillswehavethanflytoothersthatweknownotofthusconsciencedoesmakecowardsofusallandthusthenativehueofresolutionissickliedoerwiththepalecastofthoughtandenterprisesofgreatpitchandmomentwiththisregardtheircurrentsturnawryandlosethenameofaction'"
      ]
     },
     "execution_count": 5,
     "metadata": {},
     "output_type": "execute_result"
    }
   ],
   "source": [
    "m"
   ]
  },
  {
   "cell_type": "code",
   "execution_count": 6,
   "metadata": {},
   "outputs": [],
   "source": [
    "plaintext = commons.lettersOfPlaintext(m)"
   ]
  },
  {
   "cell_type": "code",
   "execution_count": 33,
   "metadata": {},
   "outputs": [
    {
     "data": {
      "text/plain": [
       "['t',\n",
       " 'o',\n",
       " 'b',\n",
       " 'e',\n",
       " 'o',\n",
       " 'r',\n",
       " 'n',\n",
       " 'o',\n",
       " 't',\n",
       " 't',\n",
       " 'o',\n",
       " 'b',\n",
       " 'e',\n",
       " 't',\n",
       " 'h',\n",
       " 'a',\n",
       " 't',\n",
       " 'i',\n",
       " 's',\n",
       " 't',\n",
       " 'h',\n",
       " 'e',\n",
       " 'q',\n",
       " 'u',\n",
       " 'e',\n",
       " 's',\n",
       " 't',\n",
       " 'i',\n",
       " 'o',\n",
       " 'n']"
      ]
     },
     "execution_count": 33,
     "metadata": {},
     "output_type": "execute_result"
    }
   ],
   "source": [
    "plaintext[0:30]"
   ]
  },
  {
   "cell_type": "markdown",
   "metadata": {},
   "source": [
    "# Encryption"
   ]
  },
  {
   "cell_type": "code",
   "execution_count": 16,
   "metadata": {},
   "outputs": [],
   "source": [
    "ciphertext = []\n",
    "for i in plaintext:\n",
    "    #print(i,\" -> \",key[i])\n",
    "    rand = random.randint(0, len(key[i]) - 1)\n",
    "    #print(i,\" -> \",key[i][rand])\n",
    "    ciphertext.append(key[i][rand])"
   ]
  },
  {
   "cell_type": "code",
   "execution_count": 34,
   "metadata": {},
   "outputs": [
    {
     "data": {
      "text/plain": [
       "['85',\n",
       " '54',\n",
       " '48',\n",
       " '64',\n",
       " '07',\n",
       " '42',\n",
       " '18',\n",
       " '99',\n",
       " '17',\n",
       " '30',\n",
       " '54',\n",
       " '48',\n",
       " '57',\n",
       " '75',\n",
       " '39',\n",
       " '12',\n",
       " '75',\n",
       " '88',\n",
       " '11',\n",
       " '43',\n",
       " '23',\n",
       " '57',\n",
       " '94',\n",
       " '61',\n",
       " '16',\n",
       " '36',\n",
       " '85',\n",
       " '88',\n",
       " '99',\n",
       " '58']"
      ]
     },
     "execution_count": 34,
     "metadata": {},
     "output_type": "execute_result"
    }
   ],
   "source": [
    "ciphertext[0:30]"
   ]
  },
  {
   "cell_type": "code",
   "execution_count": 19,
   "metadata": {},
   "outputs": [],
   "source": [
    "codes = pd.DataFrame(ciphertext, columns=[\"code\"])"
   ]
  },
  {
   "cell_type": "code",
   "execution_count": 22,
   "metadata": {},
   "outputs": [],
   "source": [
    "frequency = pd.DataFrame(100*codes.code.value_counts()/codes.code.value_counts().sum())"
   ]
  },
  {
   "cell_type": "code",
   "execution_count": 23,
   "metadata": {},
   "outputs": [
    {
     "data": {
      "text/html": [
       "<div>\n",
       "<style scoped>\n",
       "    .dataframe tbody tr th:only-of-type {\n",
       "        vertical-align: middle;\n",
       "    }\n",
       "\n",
       "    .dataframe tbody tr th {\n",
       "        vertical-align: top;\n",
       "    }\n",
       "\n",
       "    .dataframe thead th {\n",
       "        text-align: right;\n",
       "    }\n",
       "</style>\n",
       "<table border=\"1\" class=\"dataframe\">\n",
       "  <thead>\n",
       "    <tr style=\"text-align: right;\">\n",
       "      <th></th>\n",
       "      <th>code</th>\n",
       "    </tr>\n",
       "  </thead>\n",
       "  <tbody>\n",
       "    <tr>\n",
       "      <th>99</th>\n",
       "      <td>2.183803</td>\n",
       "    </tr>\n",
       "    <tr>\n",
       "      <th>85</th>\n",
       "      <td>2.001820</td>\n",
       "    </tr>\n",
       "    <tr>\n",
       "      <th>42</th>\n",
       "      <td>1.728844</td>\n",
       "    </tr>\n",
       "    <tr>\n",
       "      <th>10</th>\n",
       "      <td>1.546861</td>\n",
       "    </tr>\n",
       "    <tr>\n",
       "      <th>31</th>\n",
       "      <td>1.546861</td>\n",
       "    </tr>\n",
       "  </tbody>\n",
       "</table>\n",
       "</div>"
      ],
      "text/plain": [
       "        code\n",
       "99  2.183803\n",
       "85  2.001820\n",
       "42  1.728844\n",
       "10  1.546861\n",
       "31  1.546861"
      ]
     },
     "execution_count": 23,
     "metadata": {},
     "output_type": "execute_result"
    }
   ],
   "source": [
    "frequency.head()"
   ]
  },
  {
   "cell_type": "markdown",
   "metadata": {},
   "source": [
    "# Decryption"
   ]
  },
  {
   "cell_type": "code",
   "execution_count": 25,
   "metadata": {},
   "outputs": [],
   "source": [
    "restored_text = []\n",
    "for code in ciphertext:\n",
    "    for i in key:\n",
    "        for j in key[i]:\n",
    "            if j == code:\n",
    "                restored_text.append(i)"
   ]
  },
  {
   "cell_type": "code",
   "execution_count": 35,
   "metadata": {},
   "outputs": [
    {
     "data": {
      "text/plain": [
       "['t',\n",
       " 'o',\n",
       " 'b',\n",
       " 'e',\n",
       " 'o',\n",
       " 'r',\n",
       " 'n',\n",
       " 'o',\n",
       " 't',\n",
       " 't',\n",
       " 'o',\n",
       " 'b',\n",
       " 'e',\n",
       " 't',\n",
       " 'h',\n",
       " 'a',\n",
       " 't',\n",
       " 'i',\n",
       " 's',\n",
       " 't',\n",
       " 'h',\n",
       " 'e',\n",
       " 'q',\n",
       " 'u',\n",
       " 'e',\n",
       " 's',\n",
       " 't',\n",
       " 'i',\n",
       " 'o',\n",
       " 'n']"
      ]
     },
     "execution_count": 35,
     "metadata": {},
     "output_type": "execute_result"
    }
   ],
   "source": [
    "restored_text[0:30]"
   ]
  }
 ],
 "metadata": {
  "kernelspec": {
   "display_name": "Python 3",
   "language": "python",
   "name": "python3"
  },
  "language_info": {
   "codemirror_mode": {
    "name": "ipython",
    "version": 3
   },
   "file_extension": ".py",
   "mimetype": "text/x-python",
   "name": "python",
   "nbconvert_exporter": "python",
   "pygments_lexer": "ipython3",
   "version": "3.6.4"
  }
 },
 "nbformat": 4,
 "nbformat_minor": 2
}
