{
 "cells": [
  {
   "cell_type": "code",
   "execution_count": 1,
   "id": "aaf5d8d6",
   "metadata": {},
   "outputs": [],
   "source": [
    "import random"
   ]
  },
  {
   "cell_type": "code",
   "execution_count": 2,
   "id": "0254bfb3",
   "metadata": {},
   "outputs": [],
   "source": [
    "# y^2 = x^3 + a*x + b"
   ]
  },
  {
   "cell_type": "code",
   "execution_count": 3,
   "id": "48638cc0",
   "metadata": {},
   "outputs": [],
   "source": [
    "def add_points(P, Q, p):\n",
    "    x1, y1 = P\n",
    "    x2, y2 = Q\n",
    "    \n",
    "    if x1 == x2 and y1 == y2:\n",
    "        beta = (3*x1*x2 + a) * pow(2*y1, -1, p)\n",
    "    else:\n",
    "        beta = (y2 - y1) * pow(x2 - x1, -1, p)\n",
    "    \n",
    "    x3 = (beta*beta - x1 - x2) % p\n",
    "    y3 = (beta * (x1 - x3) - y1) % p\n",
    "    \n",
    "    is_on_curve((x3, y3), p)\n",
    "        \n",
    "    return x3, y3\n",
    "\n",
    "def is_on_curve(P, p):\n",
    "    x, y = P\n",
    "    assert (y*y) % p == ( pow(x, 3, p) + a*x + b ) % p\n",
    "    \n",
    "def apply_double_and_add_method(G, k, p):\n",
    "    target_point = G\n",
    "    \n",
    "    k_binary = bin(k)[2:] #0b1111111001\n",
    "    \n",
    "    for i in range(1, len(k_binary)):\n",
    "        current_bit = k_binary[i: i+1]\n",
    "        \n",
    "        # doubling - always\n",
    "        target_point = add_points(target_point, target_point, p)\n",
    "        \n",
    "        if current_bit == \"1\":\n",
    "            target_point = add_points(target_point, G, p)\n",
    "    \n",
    "    is_on_curve(target_point, p)\n",
    "    \n",
    "    return target_point"
   ]
  },
  {
   "cell_type": "code",
   "execution_count": 4,
   "id": "06aca653",
   "metadata": {},
   "outputs": [],
   "source": [
    "# Secp256k1\n",
    "a = 0; b = 7\n",
    "G = (55066263022277343669578718895168534326250603453777594175500187360389116729240, \n",
    "     32670510020758816978083085130507043184471273380659243275938904335757337482424)\n",
    "\n",
    "p = pow(2, 256) - pow(2, 32) - pow(2, 9) - pow(2, 8) - pow(2, 7) - pow(2, 6) - pow(2, 4) - pow(2, 0)\n",
    "n = 115792089237316195423570985008687907852837564279074904382605163141518161494337"
   ]
  },
  {
   "cell_type": "code",
   "execution_count": 5,
   "id": "565de55b",
   "metadata": {},
   "outputs": [],
   "source": [
    "is_on_curve(G, p)"
   ]
  },
  {
   "cell_type": "markdown",
   "id": "91633d3e",
   "metadata": {},
   "source": [
    "# Elliptic Curve ElGamal"
   ]
  },
  {
   "cell_type": "code",
   "execution_count": 6,
   "id": "ac8604d7",
   "metadata": {},
   "outputs": [],
   "source": [
    "# alice \n",
    "ka = random.getrandbits(256) # private of Alice\n",
    "Qa = apply_double_and_add_method(G = G, k = ka, p = p)"
   ]
  },
  {
   "cell_type": "markdown",
   "id": "668c9270",
   "metadata": {},
   "source": [
    "# encryption"
   ]
  },
  {
   "cell_type": "code",
   "execution_count": 7,
   "id": "bb408a49",
   "metadata": {},
   "outputs": [],
   "source": [
    "def encrypt(m, r):\n",
    "    s = apply_double_and_add_method(G = G, k = m, p = p)\n",
    "    \n",
    "    c1 = apply_double_and_add_method(G = G, k = r, p = p) \n",
    "\n",
    "    c2 = apply_double_and_add_method(G = Qa, k = r, p = p)\n",
    "    c2 = add_points(c2, s, p)\n",
    "    \n",
    "    return c1, c2"
   ]
  },
  {
   "cell_type": "code",
   "execution_count": 8,
   "id": "f3d9b55b",
   "metadata": {},
   "outputs": [],
   "source": [
    "# bob\n",
    "m = 23061912\n",
    "r = random.getrandbits(128)\n",
    "c1, c2 = encrypt(m, r)"
   ]
  },
  {
   "cell_type": "code",
   "execution_count": 21,
   "id": "085de95f",
   "metadata": {},
   "outputs": [
    {
     "data": {
      "text/plain": [
       "((77540348118386417235088022431521225296690871290970569844578744626563260408946,\n",
       "  110887220795396022362168482022447309566761338628951050256721494026565188755701),\n",
       " (50748205993558261812438974204931384216973548252261377829590065878704515903291,\n",
       "  33825217600114772500241170047646282590709149318282631617258659507780877885464))"
      ]
     },
     "execution_count": 21,
     "metadata": {},
     "output_type": "execute_result"
    }
   ],
   "source": [
    "c1, c2"
   ]
  },
  {
   "cell_type": "markdown",
   "id": "92ecb329",
   "metadata": {},
   "source": [
    "# decryption"
   ]
  },
  {
   "cell_type": "code",
   "execution_count": 9,
   "id": "84c88e76",
   "metadata": {},
   "outputs": [],
   "source": [
    "# s_prime = c2 - ka x c1\n",
    "# s_prime = c2 + ( ka x -c1)\n",
    "# (x, y) + (x, -y) = O"
   ]
  },
  {
   "cell_type": "code",
   "execution_count": 10,
   "id": "d3569399",
   "metadata": {},
   "outputs": [],
   "source": [
    "def decrypt(c1, c2):\n",
    "    c1_prime = (c1[0], (-1*c1[1]) % p)\n",
    "    s_prime = apply_double_and_add_method(G = c1_prime, k = ka, p = p)\n",
    "    s_prime = add_points(P = c2, Q = s_prime, p = p)\n",
    "    return s_prime"
   ]
  },
  {
   "cell_type": "code",
   "execution_count": 11,
   "id": "208671a1",
   "metadata": {},
   "outputs": [],
   "source": [
    "s_prime = decrypt(c1, c2)"
   ]
  },
  {
   "cell_type": "code",
   "execution_count": 23,
   "id": "05d746e0",
   "metadata": {},
   "outputs": [],
   "source": [
    "# bob actuall does not know m. he will decrypt s where s = m x G\n",
    "# show s here to confirm decrypted s is equal to s itself\n",
    "s_real = apply_double_and_add_method(G = G, k = m, p = p)"
   ]
  },
  {
   "cell_type": "code",
   "execution_count": 22,
   "id": "b4aca4bf",
   "metadata": {},
   "outputs": [
    {
     "data": {
      "text/plain": [
       "(101401888938080707466461718009381950095311426580467620560673978804974259848061,\n",
       " 81617838766714377738166229284883214383180826546122608693522719057922160918473)"
      ]
     },
     "execution_count": 22,
     "metadata": {},
     "output_type": "execute_result"
    }
   ],
   "source": [
    "s_prime"
   ]
  },
  {
   "cell_type": "code",
   "execution_count": 24,
   "id": "42d4bdb9",
   "metadata": {},
   "outputs": [
    {
     "data": {
      "text/plain": [
       "(101401888938080707466461718009381950095311426580467620560673978804974259848061,\n",
       " 81617838766714377738166229284883214383180826546122608693522719057922160918473)"
      ]
     },
     "execution_count": 24,
     "metadata": {},
     "output_type": "execute_result"
    }
   ],
   "source": [
    "s_real"
   ]
  },
  {
   "cell_type": "code",
   "execution_count": 25,
   "id": "c5f99947",
   "metadata": {},
   "outputs": [],
   "source": [
    "assert s_prime == s_real"
   ]
  },
  {
   "cell_type": "markdown",
   "id": "dd1afc33",
   "metadata": {},
   "source": [
    "# partially homomorphic encryption"
   ]
  },
  {
   "cell_type": "code",
   "execution_count": 13,
   "id": "50b219c9",
   "metadata": {},
   "outputs": [],
   "source": [
    "# (r1G, r1Q+m1G)\n",
    "# (r2G, r2Q+m2G)\n",
    "# (r1G + r2G, r1Q+m1G + r2Q+m2G)\n",
    "# (r1 + r2)G, (r1+r2)Q + (m1+m2)G"
   ]
  },
  {
   "cell_type": "code",
   "execution_count": 14,
   "id": "1e0fde97",
   "metadata": {},
   "outputs": [],
   "source": [
    "m1 = 333\n",
    "m2 = 777\n",
    "\n",
    "r1 = random.getrandbits(128)\n",
    "r2 = random.getrandbits(128)"
   ]
  },
  {
   "cell_type": "code",
   "execution_count": 15,
   "id": "6594e3fe",
   "metadata": {},
   "outputs": [],
   "source": [
    "c1_x, c2_x = encrypt(m1, r1)\n",
    "c1_y, c2_y = encrypt(m2, r2)"
   ]
  },
  {
   "cell_type": "code",
   "execution_count": 16,
   "id": "8cf1e8b8",
   "metadata": {},
   "outputs": [],
   "source": [
    "m1_encrypted_plus_m2_encrypted = (\n",
    "    add_points(\n",
    "        P = c1_x, \n",
    "        Q = c1_y, \n",
    "        p = p\n",
    "    ), \n",
    "    add_points(\n",
    "        P = c2_x, \n",
    "        Q = c2_y, \n",
    "        p = p\n",
    "    )\n",
    ")"
   ]
  },
  {
   "cell_type": "code",
   "execution_count": 17,
   "id": "cedaefb3",
   "metadata": {},
   "outputs": [],
   "source": [
    "m1_plus_m2_encrypted = encrypt(m1+m2, r1+r2)"
   ]
  },
  {
   "cell_type": "code",
   "execution_count": 18,
   "id": "f9dc3fa9",
   "metadata": {},
   "outputs": [
    {
     "data": {
      "text/plain": [
       "((14865980593939876698068876225599263321251036940474617606547871128143773286814,\n",
       "  46077028121493745938979093690143736399505333984612654865333216947917716654991),\n",
       " (75741602061653471892719211543889485322291173372919174930120720881734323798977,\n",
       "  42804451477266150613093421250399320812634330922132137062522288638099329573521))"
      ]
     },
     "execution_count": 18,
     "metadata": {},
     "output_type": "execute_result"
    }
   ],
   "source": [
    "m1_encrypted_plus_m2_encrypted"
   ]
  },
  {
   "cell_type": "code",
   "execution_count": 19,
   "id": "893b98db",
   "metadata": {},
   "outputs": [
    {
     "data": {
      "text/plain": [
       "((14865980593939876698068876225599263321251036940474617606547871128143773286814,\n",
       "  46077028121493745938979093690143736399505333984612654865333216947917716654991),\n",
       " (75741602061653471892719211543889485322291173372919174930120720881734323798977,\n",
       "  42804451477266150613093421250399320812634330922132137062522288638099329573521))"
      ]
     },
     "execution_count": 19,
     "metadata": {},
     "output_type": "execute_result"
    }
   ],
   "source": [
    "m1_plus_m2_encrypted"
   ]
  },
  {
   "cell_type": "code",
   "execution_count": 20,
   "id": "a2327c37",
   "metadata": {},
   "outputs": [],
   "source": [
    "assert m1_encrypted_plus_m2_encrypted == m1_plus_m2_encrypted"
   ]
  }
 ],
 "metadata": {
  "kernelspec": {
   "display_name": "Python 3 (ipykernel)",
   "language": "python",
   "name": "python3"
  },
  "language_info": {
   "codemirror_mode": {
    "name": "ipython",
    "version": 3
   },
   "file_extension": ".py",
   "mimetype": "text/x-python",
   "name": "python",
   "nbconvert_exporter": "python",
   "pygments_lexer": "ipython3",
   "version": "3.8.12"
  }
 },
 "nbformat": 4,
 "nbformat_minor": 5
}
