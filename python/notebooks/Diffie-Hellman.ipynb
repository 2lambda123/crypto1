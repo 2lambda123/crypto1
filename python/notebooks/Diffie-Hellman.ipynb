{
 "cells": [
  {
   "cell_type": "code",
   "execution_count": 1,
   "id": "4b81d518",
   "metadata": {},
   "outputs": [],
   "source": [
    "import random"
   ]
  },
  {
   "cell_type": "code",
   "execution_count": 2,
   "id": "a8155c21",
   "metadata": {},
   "outputs": [
    {
     "name": "stdout",
     "output_type": "stream",
     "text": [
      "modulo p is 808 bit prime\n"
     ]
    }
   ],
   "source": [
    "# base generator\n",
    "g = 17\n",
    "\n",
    "# prime modulus - trust me this is prime\n",
    "p = 158 * ( pow(2, 800) + 25 ) + 1\n",
    "\n",
    "print(f\"modulo p is {len(bin(p)[2:])} bit prime\")"
   ]
  },
  {
   "cell_type": "markdown",
   "id": "aac9cc5c",
   "metadata": {},
   "source": [
    "# Generating private key\n",
    "\n",
    "Alice and Bob should pick a large integers"
   ]
  },
  {
   "cell_type": "code",
   "execution_count": 3,
   "id": "e52c92b4",
   "metadata": {},
   "outputs": [],
   "source": [
    "# Alice's private key\n",
    "a = random.getrandbits(1024)\n",
    "\n",
    "# Bob's private key\n",
    "b = random.getrandbits(1024)"
   ]
  },
  {
   "cell_type": "markdown",
   "id": "cf86ab6e",
   "metadata": {},
   "source": [
    "# Public key calculations"
   ]
  },
  {
   "cell_type": "markdown",
   "id": "d58cd12c",
   "metadata": {},
   "source": [
    "Alice and Bob will calculate the base generator g to the power of his/her private keys as public keys\n",
    "\n",
    "ga = g^a mod p\n",
    "\n",
    "gb = g^b mod p"
   ]
  },
  {
   "cell_type": "code",
   "execution_count": 4,
   "id": "7868ca1d",
   "metadata": {},
   "outputs": [],
   "source": [
    "# Alice's public key\n",
    "ga = pow(g, a, p)\n",
    "\n",
    "# Bob's public key\n",
    "gb = pow(g, b, p)"
   ]
  },
  {
   "cell_type": "markdown",
   "id": "83ee6ada",
   "metadata": {},
   "source": [
    "# Discrete Logarithm Problem (DLP)\n",
    "\n",
    "finding a and b is hard from following statements"
   ]
  },
  {
   "cell_type": "code",
   "execution_count": 5,
   "id": "1962317d",
   "metadata": {},
   "outputs": [
    {
     "name": "stdout",
     "output_type": "stream",
     "text": [
      "17^a mod (1053546280395016975304616582933958731948871814925913489342608734258717883575185867300386287737705577937382925873762451990450430661350859682697410256268271147283034897563214300237166369174066615907176472549470083113107138189921280884003892629359) = 747785701628792619141494733099883997402440017550396596501902641177059363448034041847575629651375188448103810968283936147003482179597832436163668159153964920136015642485406169833729385976341334925745787000260401348113384797074295950768197191221\n"
     ]
    }
   ],
   "source": [
    "print(f\"{g}^a mod ({p}) = {ga}\")"
   ]
  },
  {
   "cell_type": "code",
   "execution_count": 6,
   "id": "a5fa643d",
   "metadata": {},
   "outputs": [
    {
     "name": "stdout",
     "output_type": "stream",
     "text": [
      "17^b mod (1053546280395016975304616582933958731948871814925913489342608734258717883575185867300386287737705577937382925873762451990450430661350859682697410256268271147283034897563214300237166369174066615907176472549470083113107138189921280884003892629359) = 48487462340241998087532319913114401225660684051572743474017758865006301096857773499110330715617369711069732760660503203206044140254902442486407724893120314716448132129445409513103534061958956113842141015440614826865378419078326210550129301951\n"
     ]
    }
   ],
   "source": [
    "print(f\"{g}^b mod ({p}) = {gb}\")"
   ]
  },
  {
   "cell_type": "code",
   "execution_count": 7,
   "id": "a482a894",
   "metadata": {},
   "outputs": [],
   "source": [
    "# attacking DLP requires to run the following block! Do not run it :)\n",
    "if False:\n",
    "    i = 0\n",
    "    while True:\n",
    "        i += 1\n",
    "        if pow(g, i, p) == ga:\n",
    "            print(f\"a is {i}\")\n",
    "            break"
   ]
  },
  {
   "cell_type": "markdown",
   "id": "31e2d8d6",
   "metadata": {},
   "source": [
    "# Key Exchange\n",
    "\n",
    "If Alice calculates Bob's public key to the power of her private key\n",
    "\n",
    "And Bob calculates Alice's public key to the power of his private key\n",
    "\n",
    "They must have same value according to the power rule of exponent\n",
    "\n",
    "Alice calculates: \n",
    "\n",
    "sa = gb^a = (g^b)^a\n",
    "\n",
    "Bob calculates:\n",
    "\n",
    "sb = ga^b = (g^a)^b\n",
    "\n",
    "sa = sb = (g^a)^b = (g^b)^a"
   ]
  },
  {
   "cell_type": "code",
   "execution_count": 8,
   "id": "b9c7f3ae",
   "metadata": {},
   "outputs": [],
   "source": [
    "# Alice's shared key\n",
    "sa = pow(gb, a, p)"
   ]
  },
  {
   "cell_type": "code",
   "execution_count": 9,
   "id": "147a1e4b",
   "metadata": {},
   "outputs": [],
   "source": [
    "# Bob's shared key\n",
    "sb = pow(ga, b, p)"
   ]
  },
  {
   "cell_type": "code",
   "execution_count": 10,
   "id": "5a5bd757",
   "metadata": {},
   "outputs": [],
   "source": [
    "assert sa == sb"
   ]
  },
  {
   "cell_type": "code",
   "execution_count": 11,
   "id": "4a869717",
   "metadata": {},
   "outputs": [],
   "source": [
    "# Alice does not know Bob's private key and Bob does not know Alice's private key\n",
    "# So they cannot calculate the following calculation directly\n",
    "# But this must be equal to the shared key they calculated\n",
    "g_to_a_times_b = pow(g, a*b, p)"
   ]
  },
  {
   "cell_type": "code",
   "execution_count": 12,
   "id": "6b2deb3e",
   "metadata": {},
   "outputs": [],
   "source": [
    "assert g_to_a_times_b == sa\n",
    "assert g_to_a_times_b == sb"
   ]
  },
  {
   "cell_type": "code",
   "execution_count": 13,
   "id": "d8005eee",
   "metadata": {},
   "outputs": [
    {
     "data": {
      "text/plain": [
       "608770443832067032292705258925633483227747446787390132830668338173924569195879616518416022109888921926554844392480408190744652240451198659885901444853629319672986324232434242234619478882073841347562874512069521372860381044943824563840007063188"
      ]
     },
     "execution_count": 13,
     "metadata": {},
     "output_type": "execute_result"
    }
   ],
   "source": [
    "g_to_a_times_b"
   ]
  },
  {
   "cell_type": "markdown",
   "id": "2f5b55da",
   "metadata": {},
   "source": [
    "# Man in the middle attack\n",
    "\n",
    "Carol knows ga and gb whereas ga = g^a and gb = g^b. \n",
    "\n",
    "If she multiplies the public values, then she will have g^a * g^b = g^(a+b)\n",
    "\n",
    "according to the product rule of exponents. This is not equal to the shared key g^(a*b)!"
   ]
  },
  {
   "cell_type": "code",
   "execution_count": 14,
   "id": "e7e59058",
   "metadata": {},
   "outputs": [],
   "source": [
    "g_to_a_plus_b = ( ga * gb ) % p"
   ]
  },
  {
   "cell_type": "code",
   "execution_count": 15,
   "id": "c0dbef68",
   "metadata": {},
   "outputs": [
    {
     "data": {
      "text/plain": [
       "970953115769429172791475548124609116663733104396607452897472548579322711387887140172539818920432040505805953444931387865187384887618025043732784859187288979137296298644305208234996062823477865253691565238807686650189858908407417320676903303268"
      ]
     },
     "execution_count": 15,
     "metadata": {},
     "output_type": "execute_result"
    }
   ],
   "source": [
    "g_to_a_plus_b"
   ]
  },
  {
   "cell_type": "code",
   "execution_count": 16,
   "id": "2a2501f2",
   "metadata": {},
   "outputs": [],
   "source": [
    "# this must be different than the shared key\n",
    "assert g_to_a_plus_b != g_to_a_times_b"
   ]
  },
  {
   "cell_type": "code",
   "execution_count": 17,
   "id": "c06177f4",
   "metadata": {},
   "outputs": [],
   "source": [
    "assert g_to_a_plus_b == pow(g, a+b, p)"
   ]
  },
  {
   "cell_type": "code",
   "execution_count": null,
   "id": "dd43ad5a",
   "metadata": {},
   "outputs": [],
   "source": []
  }
 ],
 "metadata": {
  "kernelspec": {
   "display_name": "Python 3 (ipykernel)",
   "language": "python",
   "name": "python3"
  },
  "language_info": {
   "codemirror_mode": {
    "name": "ipython",
    "version": 3
   },
   "file_extension": ".py",
   "mimetype": "text/x-python",
   "name": "python",
   "nbconvert_exporter": "python",
   "pygments_lexer": "ipython3",
   "version": "3.8.12"
  }
 },
 "nbformat": 4,
 "nbformat_minor": 5
}
