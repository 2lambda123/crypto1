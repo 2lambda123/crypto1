{
 "cells": [
  {
   "cell_type": "markdown",
   "id": "5a6ae222",
   "metadata": {},
   "source": [
    "# EC-KCDSA\n",
    "\n",
    "Elliptic Curve Korean Certificate-based Digital Signature Algorithm (KCDSA)"
   ]
  },
  {
   "cell_type": "code",
   "execution_count": 1,
   "id": "8c86e984",
   "metadata": {},
   "outputs": [],
   "source": [
    "import random\n",
    "import hashlib"
   ]
  },
  {
   "cell_type": "code",
   "execution_count": 2,
   "id": "0254bfb3",
   "metadata": {},
   "outputs": [],
   "source": [
    "# y^2 = x^3 + a*x + b"
   ]
  },
  {
   "cell_type": "code",
   "execution_count": 3,
   "id": "48638cc0",
   "metadata": {},
   "outputs": [],
   "source": [
    "def add_points(P, Q, p):\n",
    "    x1, y1 = P\n",
    "    x2, y2 = Q\n",
    "    \n",
    "    if x1 == x2 and y1 == y2:\n",
    "        beta = (3*x1*x2 + a) * pow(2*y1, -1, p)\n",
    "    else:\n",
    "        beta = (y2 - y1) * pow(x2 - x1, -1, p)\n",
    "    \n",
    "    x3 = (beta*beta - x1 - x2) % p\n",
    "    y3 = (beta * (x1 - x3) - y1) % p\n",
    "    \n",
    "    is_on_curve((x3, y3), p)\n",
    "        \n",
    "    return x3, y3\n",
    "\n",
    "def is_on_curve(P, p):\n",
    "    x, y = P\n",
    "    assert (y*y) % p == ( pow(x, 3, p) + a*x + b ) % p\n",
    "    \n",
    "def apply_double_and_add_method(G, k, p):\n",
    "    target_point = G\n",
    "    \n",
    "    k_binary = bin(k)[2:] #0b1111111001\n",
    "    \n",
    "    for i in range(1, len(k_binary)):\n",
    "        current_bit = k_binary[i: i+1]\n",
    "        \n",
    "        # doubling - always\n",
    "        target_point = add_points(target_point, target_point, p)\n",
    "        \n",
    "        if current_bit == \"1\":\n",
    "            target_point = add_points(target_point, G, p)\n",
    "    \n",
    "    is_on_curve(target_point, p)\n",
    "    \n",
    "    return target_point"
   ]
  },
  {
   "cell_type": "code",
   "execution_count": 4,
   "id": "06aca653",
   "metadata": {},
   "outputs": [],
   "source": [
    "# Secp256k1\n",
    "a = 0; b = 7\n",
    "G = (55066263022277343669578718895168534326250603453777594175500187360389116729240, \n",
    "     32670510020758816978083085130507043184471273380659243275938904335757337482424)\n",
    "\n",
    "p = pow(2, 256) - pow(2, 32) - pow(2, 9) - pow(2, 8) - pow(2, 7) - pow(2, 6) - pow(2, 4) - pow(2, 0)\n",
    "n = 115792089237316195423570985008687907852837564279074904382605163141518161494337"
   ]
  },
  {
   "cell_type": "code",
   "execution_count": 5,
   "id": "565de55b",
   "metadata": {},
   "outputs": [],
   "source": [
    "is_on_curve(G, p)"
   ]
  },
  {
   "cell_type": "markdown",
   "id": "bf68250a",
   "metadata": {},
   "source": [
    "# Signing"
   ]
  },
  {
   "cell_type": "code",
   "execution_count": 6,
   "id": "b3e92584",
   "metadata": {},
   "outputs": [],
   "source": [
    "message = \"fenerbahce\""
   ]
  },
  {
   "cell_type": "code",
   "execution_count": 7,
   "id": "316a6cc5",
   "metadata": {},
   "outputs": [],
   "source": [
    "def find_hash(m):\n",
    "    \n",
    "    if isinstance(m, int):\n",
    "        m = str(m)\n",
    "    \n",
    "    # to bytes\n",
    "    m = str.encode(m)\n",
    "        \n",
    "    hash_value = hashlib.sha256(m).digest()\n",
    "    # Convert the hash value to an integer\n",
    "    return int.from_bytes(hash_value, 'big')"
   ]
  },
  {
   "cell_type": "code",
   "execution_count": 8,
   "id": "00b40fa3",
   "metadata": {},
   "outputs": [],
   "source": [
    "# Alice's private key\n",
    "d = random.getrandbits(256)\n",
    "\n",
    "# public key of Alice\n",
    "Qa = apply_double_and_add_method(G = G, k = pow(d, -1, n), p = p)"
   ]
  },
  {
   "cell_type": "code",
   "execution_count": 9,
   "id": "4084ae1a",
   "metadata": {},
   "outputs": [],
   "source": [
    "# random key\n",
    "k = random.getrandbits(256)\n",
    "K = apply_double_and_add_method(G = G, k = k, p = p)"
   ]
  },
  {
   "cell_type": "code",
   "execution_count": 10,
   "id": "5ee2e2ca",
   "metadata": {},
   "outputs": [],
   "source": [
    "r = find_hash(K[0])"
   ]
  },
  {
   "cell_type": "code",
   "execution_count": 11,
   "id": "220d0661",
   "metadata": {},
   "outputs": [],
   "source": [
    "e = find_hash(message)"
   ]
  },
  {
   "cell_type": "code",
   "execution_count": 12,
   "id": "1f3ed8b3",
   "metadata": {},
   "outputs": [],
   "source": [
    "# TODO: hash should return bits and i should add two binary numbers\n",
    "w = ( r + e ) % n"
   ]
  },
  {
   "cell_type": "code",
   "execution_count": 13,
   "id": "d946c861",
   "metadata": {},
   "outputs": [],
   "source": [
    "s = ( d * (k - w) ) % n"
   ]
  },
  {
   "cell_type": "code",
   "execution_count": 14,
   "id": "43cb8b6b",
   "metadata": {},
   "outputs": [],
   "source": [
    "assert s != 0"
   ]
  },
  {
   "cell_type": "code",
   "execution_count": 15,
   "id": "6eb622f3",
   "metadata": {},
   "outputs": [],
   "source": [
    "# send (r, s) pair to Bob"
   ]
  },
  {
   "cell_type": "markdown",
   "id": "5da983ac",
   "metadata": {},
   "source": [
    "# Verification"
   ]
  },
  {
   "cell_type": "code",
   "execution_count": 16,
   "id": "5e7e2771",
   "metadata": {},
   "outputs": [
    {
     "data": {
      "text/plain": [
       "(2627115786895751047619043427573784819443544467753686718215604549245316874562,\n",
       " 46991288793321660032041704358548977753200924831685655513531834284462795112390)"
      ]
     },
     "execution_count": 16,
     "metadata": {},
     "output_type": "execute_result"
    }
   ],
   "source": [
    "r, s"
   ]
  },
  {
   "cell_type": "code",
   "execution_count": 17,
   "id": "da5dd04c",
   "metadata": {},
   "outputs": [],
   "source": [
    "e = find_hash(message)"
   ]
  },
  {
   "cell_type": "code",
   "execution_count": 18,
   "id": "10caf1c9",
   "metadata": {},
   "outputs": [],
   "source": [
    "w = ( r + e ) % n"
   ]
  },
  {
   "cell_type": "code",
   "execution_count": 19,
   "id": "7eaf98a8",
   "metadata": {},
   "outputs": [],
   "source": [
    "x = add_points(\n",
    "    P = apply_double_and_add_method(G = Qa, k = s, p = p),\n",
    "    Q = apply_double_and_add_method(G = G, k = w, p = p), \n",
    "    p = p\n",
    ")"
   ]
  },
  {
   "cell_type": "code",
   "execution_count": 20,
   "id": "e4cb964f",
   "metadata": {},
   "outputs": [],
   "source": [
    "assert find_hash(x[0]) == r"
   ]
  },
  {
   "cell_type": "markdown",
   "id": "86718537",
   "metadata": {},
   "source": [
    "# Proof"
   ]
  },
  {
   "cell_type": "markdown",
   "id": "7faf403a",
   "metadata": {},
   "source": [
    "how signature s was calculated by Alice\n",
    "\n",
    "s = d * (k - w)  mod n\n",
    "\n",
    "s * d^-1 = k - w mod n\n",
    "\n",
    "k = s * d^-1 + w\n",
    "\n",
    "how bob calculated x\n",
    "\n",
    "x = sQ + wG\n",
    "\n",
    "x = s*d^1xG + wG\n",
    "\n",
    "x = (s*d^-1 + w) x G\n",
    "\n",
    "x = k x G\n",
    "\n",
    "x = K\n",
    "\n",
    "Alice found the signature r as the x coordinate of point K\n",
    "\n",
    "r = hash(K[0])\n",
    "\n",
    "this must be true always!\n",
    "\n",
    "hash(x[0]) == r"
   ]
  },
  {
   "cell_type": "code",
   "execution_count": null,
   "id": "a697c357",
   "metadata": {},
   "outputs": [],
   "source": []
  },
  {
   "cell_type": "code",
   "execution_count": null,
   "id": "cc131d27",
   "metadata": {},
   "outputs": [],
   "source": []
  }
 ],
 "metadata": {
  "kernelspec": {
   "display_name": "Python 3 (ipykernel)",
   "language": "python",
   "name": "python3"
  },
  "language_info": {
   "codemirror_mode": {
    "name": "ipython",
    "version": 3
   },
   "file_extension": ".py",
   "mimetype": "text/x-python",
   "name": "python",
   "nbconvert_exporter": "python",
   "pygments_lexer": "ipython3",
   "version": "3.8.12"
  }
 },
 "nbformat": 4,
 "nbformat_minor": 5
}
