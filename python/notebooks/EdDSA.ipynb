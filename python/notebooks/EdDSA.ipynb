{
 "cells": [
  {
   "cell_type": "code",
   "execution_count": 11,
   "id": "d85c83b1",
   "metadata": {},
   "outputs": [],
   "source": [
    "import random\n",
    "import hashlib"
   ]
  },
  {
   "cell_type": "code",
   "execution_count": 2,
   "id": "cba5e0fb",
   "metadata": {},
   "outputs": [],
   "source": [
    "def add_points(P, Q, a, d, p):\n",
    "    # twisted edwards curve: (a*x^2 + y^2) mod p = (1 + d*x^2*y^2) mod p\n",
    "    \n",
    "    x1, y1 = P\n",
    "    x2, y2 = Q\n",
    "    \n",
    "    x3 = ( ( (x1*y2 + y1*x2) % p) * pow(1 + d*x1*x2*y1*y2, -1, p) ) % p\n",
    "    y3 = ( ( (y1*y2 - a*x1*x2) % p ) * pow(1 - d*x1*x2*y1*y2, -1, p) ) % p\n",
    "    \n",
    "    assert (a*x3*x3 + y3*y3) % p == (1 + d*x3*x3*y3*y3) % p\n",
    "    \n",
    "    return x3, y3"
   ]
  },
  {
   "cell_type": "code",
   "execution_count": 3,
   "id": "a7d55e77",
   "metadata": {},
   "outputs": [],
   "source": [
    "def apply_double_and_add_method(Q, k, a, d, p):\n",
    "    \"\"\"\n",
    "    kQ = k x Q\n",
    "    \"\"\"\n",
    "    addition_point = Q\n",
    "    \n",
    "    k_binary = bin(k)[2:] #1111111001\n",
    "    \n",
    "    for i in range(1, len(k_binary)):\n",
    "        current_bit = k_binary[i:i+1]\n",
    "        \n",
    "        # always doubling\n",
    "        addition_point = add_points(addition_point, addition_point, a, d, p)\n",
    "        \n",
    "        if current_bit == \"1\":\n",
    "            addition_point = add_points(addition_point, Q, a, d, p)\n",
    "    \n",
    "    return addition_point"
   ]
  },
  {
   "cell_type": "code",
   "execution_count": 4,
   "id": "66ec18ab",
   "metadata": {},
   "outputs": [],
   "source": [
    "# Ed25519, Curve25519\n",
    "p = pow(2, 255) - 19\n",
    "a = -1\n",
    "\n",
    "d = -121665/121666\n",
    "d = (-121665 * pow(121666, -1, p)) % p"
   ]
  },
  {
   "cell_type": "code",
   "execution_count": 5,
   "id": "3232649d",
   "metadata": {},
   "outputs": [],
   "source": [
    "# base point G\n",
    "u = 9\n",
    "# Gy = (u-1)/(u+1)\n",
    "Gy = ( (u-1) * pow(u+1, -1, p) ) % p\n",
    "Gx = 15112221349535400772501151409588531511454012693041857206046113283949847762202\n",
    "\n",
    "G = (Gx, Gy)"
   ]
  },
  {
   "cell_type": "code",
   "execution_count": 6,
   "id": "2876fdf8",
   "metadata": {},
   "outputs": [],
   "source": [
    "assert (a*Gx*Gx + Gy*Gy) % p == (1 + d*Gx*Gx*Gy*Gy) % p"
   ]
  },
  {
   "cell_type": "code",
   "execution_count": 7,
   "id": "4fe208d2",
   "metadata": {},
   "outputs": [],
   "source": [
    "# generate private key - public key\n",
    "private_key = random.getrandbits(256)\n",
    "public_key = apply_double_and_add_method(G, private_key, a, d, p)"
   ]
  },
  {
   "cell_type": "code",
   "execution_count": 8,
   "id": "65a74214",
   "metadata": {},
   "outputs": [
    {
     "name": "stdout",
     "output_type": "stream",
     "text": [
      "476943649818966505853641630157015566676334933183409986023816469489338813102\n",
      "(3120457832220605593939896132109147515894507211127231274681523164834021570368, 54586033401042792418511282327547041058377977328876309060543857005780870369048)\n"
     ]
    }
   ],
   "source": [
    "print(private_key)\n",
    "print(public_key)"
   ]
  },
  {
   "cell_type": "code",
   "execution_count": 23,
   "id": "f714e214",
   "metadata": {},
   "outputs": [],
   "source": [
    "# sign\n",
    "def text_to_int(text):\n",
    "    encoded_text = text.encode(\"utf-8\")\n",
    "    hex_text = encoded_text.hex()\n",
    "    return int(hex_text, 16)\n",
    "\n",
    "def hashing(message_int):\n",
    "    return int(hashlib.sha256(str(message_int).encode(\"utf-8\")).hexdigest(), 16)\n",
    "    \n",
    "message = text_to_int(\"Hello, London!\")\n",
    "r = hashing(hashing(message) + message) % p\n",
    "\n",
    "R = apply_double_and_add_method(G, r, a, d, p)\n",
    "\n",
    "h = (R[0] + public_key[0] + message) % p\n",
    "s = (r + h * private_key)\n",
    "\n",
    "# (R, s)"
   ]
  },
  {
   "cell_type": "code",
   "execution_count": 24,
   "id": "6ea57138",
   "metadata": {},
   "outputs": [],
   "source": [
    "# verify\n",
    "# message, (R, s), public_key, a, d, p, G\n",
    "\n",
    "h = (R[0] + public_key[0] + message) % p\n",
    "\n",
    "P1 = apply_double_and_add_method(G, s, a, d, p)\n",
    "P2 = add_points(R, apply_double_and_add_method(public_key, h, a, d, p), a, d, p)\n",
    "\n",
    "assert P1[0] == P2[0] and P1[1] == P2[1]"
   ]
  },
  {
   "cell_type": "code",
   "execution_count": null,
   "id": "fff171a6",
   "metadata": {},
   "outputs": [],
   "source": [
    "\"\"\"\n",
    "s = (r + h * private_key)\n",
    "P1 = sxG\n",
    "P1 = (r + h * private_key) x G\n",
    "P1 = rxG + h*private_key*G\n",
    "P1 = R + h * public_key\n",
    "\"\"\""
   ]
  }
 ],
 "metadata": {
  "kernelspec": {
   "display_name": "Python 3 (ipykernel)",
   "language": "python",
   "name": "python3"
  },
  "language_info": {
   "codemirror_mode": {
    "name": "ipython",
    "version": 3
   },
   "file_extension": ".py",
   "mimetype": "text/x-python",
   "name": "python",
   "nbconvert_exporter": "python",
   "pygments_lexer": "ipython3",
   "version": "3.8.12"
  }
 },
 "nbformat": 4,
 "nbformat_minor": 5
}
