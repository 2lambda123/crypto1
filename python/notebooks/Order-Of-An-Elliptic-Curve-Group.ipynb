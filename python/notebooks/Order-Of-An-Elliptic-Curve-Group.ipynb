{
 "cells": [
  {
   "cell_type": "code",
   "execution_count": 1,
   "id": "0254bfb3",
   "metadata": {},
   "outputs": [],
   "source": [
    "# y^2 = x^3 + a*x + b"
   ]
  },
  {
   "cell_type": "code",
   "execution_count": 13,
   "id": "fb42dadc",
   "metadata": {},
   "outputs": [],
   "source": [
    "import numpy as np\n",
    "import matplotlib.pyplot as plt"
   ]
  },
  {
   "cell_type": "code",
   "execution_count": 3,
   "id": "a3e4c61b",
   "metadata": {},
   "outputs": [],
   "source": [
    "O = (np.inf, np.inf)"
   ]
  },
  {
   "cell_type": "code",
   "execution_count": 4,
   "id": "48638cc0",
   "metadata": {},
   "outputs": [],
   "source": [
    "def add_points(P, Q, p):\n",
    "    x1, y1 = P\n",
    "    x2, y2 = Q\n",
    "    \n",
    "    if x1 == x2 and y1 == y2:\n",
    "        beta = (3*x1*x2 + a) * pow(2*y1, -1, p)\n",
    "    else:\n",
    "        beta = (y2 - y1) * pow(x2 - x1, -1, p)\n",
    "    \n",
    "    x3 = (beta*beta - x1 - x2) % p\n",
    "    y3 = (beta * (x1 - x3) - y1) % p\n",
    "    \n",
    "    is_on_curve((x3, y3), p)\n",
    "            \n",
    "    return x3, y3"
   ]
  },
  {
   "cell_type": "code",
   "execution_count": 5,
   "id": "4268455b",
   "metadata": {},
   "outputs": [],
   "source": [
    "def is_on_curve(P, p):\n",
    "    x, y = P\n",
    "    assert (y*y) % p == (pow(x,3,p) + a*x + b) % p"
   ]
  },
  {
   "cell_type": "code",
   "execution_count": 6,
   "id": "08ca8265",
   "metadata": {},
   "outputs": [],
   "source": [
    "# y^2 = x^3 + x + 1\n",
    "a = 1\n",
    "b = 1\n",
    "\n",
    "# modulo\n",
    "p = 23\n",
    "\n",
    "# base point\n",
    "G = (0, 1)"
   ]
  },
  {
   "cell_type": "code",
   "execution_count": 7,
   "id": "71773f46",
   "metadata": {},
   "outputs": [],
   "source": [
    "is_on_curve(G, p)"
   ]
  },
  {
   "cell_type": "code",
   "execution_count": 15,
   "id": "116d9112",
   "metadata": {},
   "outputs": [
    {
     "name": "stdout",
     "output_type": "stream",
     "text": [
      "G = (0, 1)\n",
      "2 x G = (6, 19)\n",
      "3 x G = (3, 13)\n",
      "4 x G = (13, 16)\n",
      "5 x G = (18, 3)\n",
      "6 x G = (7, 11)\n",
      "7 x G = (11, 3)\n",
      "8 x G = (5, 19)\n",
      "9 x G = (19, 18)\n",
      "10 x G = (12, 4)\n",
      "11 x G = (1, 16)\n",
      "12 x G = (17, 20)\n",
      "13 x G = (9, 16)\n",
      "14 x G = (4, 0)\n",
      "15 x G = (9, 7)\n",
      "16 x G = (17, 3)\n",
      "17 x G = (1, 7)\n",
      "18 x G = (12, 19)\n",
      "19 x G = (19, 5)\n",
      "20 x G = (5, 4)\n",
      "21 x G = (11, 20)\n",
      "22 x G = (7, 12)\n",
      "23 x G = (18, 20)\n",
      "24 x G = (13, 7)\n",
      "25 x G = (3, 10)\n",
      "26 x G = (6, 4)\n",
      "27 x G = (0, 22)\n",
      "28 x G = (inf, inf)\n"
     ]
    }
   ],
   "source": [
    "points = []\n",
    "print(f\"G = {G}\")\n",
    "points.append(G)\n",
    "current_point = G\n",
    "n = 1\n",
    "while True:\n",
    "    try:\n",
    "        current_point = add_points(current_point, G, p)\n",
    "        n += 1\n",
    "        print(f\"{n} x G = {current_point}\")\n",
    "        points.append(current_point)\n",
    "    except:\n",
    "        print(f\"{n + 1} x G = {O}\")\n",
    "        break"
   ]
  },
  {
   "cell_type": "code",
   "execution_count": 10,
   "id": "9378ebfc",
   "metadata": {},
   "outputs": [
    {
     "data": {
      "text/plain": [
       "(0, 1)"
      ]
     },
     "execution_count": 10,
     "metadata": {},
     "output_type": "execute_result"
    }
   ],
   "source": [
    "# 29 x G = 1 x G\n",
    "add_points(P = (0, 22), Q = (6, 19), p = p)"
   ]
  },
  {
   "cell_type": "code",
   "execution_count": 11,
   "id": "cab7cf97",
   "metadata": {},
   "outputs": [
    {
     "data": {
      "text/plain": [
       "(6, 19)"
      ]
     },
     "execution_count": 11,
     "metadata": {},
     "output_type": "execute_result"
    }
   ],
   "source": [
    "# 30 x G = 2 x G\n",
    "add_points(P = (0, 22), Q = (3, 13), p = p)"
   ]
  },
  {
   "cell_type": "code",
   "execution_count": 16,
   "id": "b94b8676",
   "metadata": {},
   "outputs": [
    {
     "data": {
      "image/png": "[encoded data removed]",
      "text/plain": [
       "<Figure size 432x288 with 1 Axes>"
      ]
     },
     "metadata": {
      "needs_background": "light"
     },
     "output_type": "display_data"
    }
   ],
   "source": [
    "for point in points:\n",
    "    plt.scatter(point[0], point[1], c = \"blue\")\n",
    "plt.show()"
   ]
  },
  {
   "cell_type": "code",
   "execution_count": 18,
   "id": "d2beb3e4",
   "metadata": {},
   "outputs": [
    {
     "name": "stdout",
     "output_type": "stream",
     "text": [
      "F(23) = 28\n"
     ]
    }
   ],
   "source": [
    "# F(p) = n\n",
    "print(f\"F({p}) = {n+1}\")"
   ]
  }
 ],
 "metadata": {
  "kernelspec": {
   "display_name": "Python 3 (ipykernel)",
   "language": "python",
   "name": "python3"
  },
  "language_info": {
   "codemirror_mode": {
    "name": "ipython",
    "version": 3
   },
   "file_extension": ".py",
   "mimetype": "text/x-python",
   "name": "python",
   "nbconvert_exporter": "python",
   "pygments_lexer": "ipython3",
   "version": "3.8.12"
  }
 },
 "nbformat": 4,
 "nbformat_minor": 5
}
