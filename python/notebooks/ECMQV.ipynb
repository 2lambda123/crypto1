{
 "cells": [
  {
   "cell_type": "markdown",
   "id": "5bea8f39",
   "metadata": {},
   "source": [
    "# Elliptic Curve Menezes-Qu-Vanstone (ECMQV)\n",
    "\n",
    "Key exchange"
   ]
  },
  {
   "cell_type": "code",
   "execution_count": 1,
   "id": "6068ac2f",
   "metadata": {},
   "outputs": [],
   "source": [
    "import random\n",
    "import math\n",
    "from typing import Tuple"
   ]
  },
  {
   "cell_type": "markdown",
   "id": "b884a1d2",
   "metadata": {},
   "source": [
    "# Addition Law"
   ]
  },
  {
   "cell_type": "code",
   "execution_count": 2,
   "id": "791971c6",
   "metadata": {},
   "outputs": [],
   "source": [
    "# y^2 = x^3 + a*x + b"
   ]
  },
  {
   "cell_type": "code",
   "execution_count": 3,
   "id": "48638cc0",
   "metadata": {},
   "outputs": [],
   "source": [
    "def add_points(P, Q, p):\n",
    "    x1, y1 = P\n",
    "    x2, y2 = Q\n",
    "    \n",
    "    if x1 == x2 and y1 == y2:\n",
    "        beta = (3*x1*x2 + a) * pow(2*y1, -1, p)\n",
    "    else:\n",
    "        beta = (y2 - y1) * pow(x2 - x1, -1, p)\n",
    "    \n",
    "    x3 = (beta*beta - x1 - x2) % p\n",
    "    y3 = (beta * (x1 - x3) - y1) % p\n",
    "    \n",
    "    is_on_curve((x3, y3), p)\n",
    "        \n",
    "    return x3, y3\n",
    "\n",
    "def is_on_curve(P, p):\n",
    "    x, y = P\n",
    "    assert (y*y) % p == ( pow(x, 3, p) + a*x + b ) % p\n",
    "    \n",
    "def apply_double_and_add_method(G, k, p):\n",
    "    target_point = G\n",
    "    \n",
    "    k_binary = bin(k)[2:] #0b1111111001\n",
    "    \n",
    "    for i in range(1, len(k_binary)):\n",
    "        current_bit = k_binary[i: i+1]\n",
    "        \n",
    "        # doubling - always\n",
    "        target_point = add_points(target_point, target_point, p)\n",
    "        \n",
    "        if current_bit == \"1\":\n",
    "            target_point = add_points(target_point, G, p)\n",
    "    \n",
    "    is_on_curve(target_point, p)\n",
    "    \n",
    "    return target_point"
   ]
  },
  {
   "cell_type": "markdown",
   "id": "d60209f5",
   "metadata": {},
   "source": [
    "# Curve Configuration"
   ]
  },
  {
   "cell_type": "code",
   "execution_count": 4,
   "id": "06aca653",
   "metadata": {},
   "outputs": [],
   "source": [
    "# Secp256k1\n",
    "\n",
    "# curve formula\n",
    "a = 0; b = 7\n",
    "\n",
    "# base point\n",
    "G = (55066263022277343669578718895168534326250603453777594175500187360389116729240, \n",
    "     32670510020758816978083085130507043184471273380659243275938904335757337482424)\n",
    "\n",
    "# modulo\n",
    "p = pow(2, 256) - pow(2, 32) - pow(2, 9) - pow(2, 8) - pow(2, 7) - pow(2, 6) - pow(2, 4) - pow(2, 0)\n",
    "\n",
    "# order\n",
    "n = 115792089237316195423570985008687907852837564279074904382605163141518161494337\n",
    "\n",
    "# cofactor\n",
    "h = 1"
   ]
  },
  {
   "cell_type": "code",
   "execution_count": 5,
   "id": "565de55b",
   "metadata": {},
   "outputs": [],
   "source": [
    "is_on_curve(G, p)"
   ]
  },
  {
   "cell_type": "code",
   "execution_count": 6,
   "id": "0a84c8f9",
   "metadata": {},
   "outputs": [],
   "source": [
    "is_on_curve(P = apply_double_and_add_method(G = G, k = n - 1, p = p), p = p)"
   ]
  },
  {
   "cell_type": "markdown",
   "id": "af8b40c2",
   "metadata": {},
   "source": [
    "# ECMQV"
   ]
  },
  {
   "cell_type": "code",
   "execution_count": 7,
   "id": "442a4751",
   "metadata": {},
   "outputs": [],
   "source": [
    "def bar(P: Tuple) -> int:\n",
    "    l = math.ceil( (math.floor(math.log(n, 2)) + 1) / 2 )\n",
    "    x, y = P\n",
    "    P_bar = ( x % pow(2, l) ) + pow(2, l)\n",
    "    return P_bar"
   ]
  },
  {
   "cell_type": "markdown",
   "id": "d30ca0f0",
   "metadata": {},
   "source": [
    "# Private - Public Key Pairs"
   ]
  },
  {
   "cell_type": "code",
   "execution_count": 8,
   "id": "10cb90e6",
   "metadata": {},
   "outputs": [],
   "source": [
    "# private key of Alice\n",
    "ka = random.getrandbits(256)\n",
    "\n",
    "# public key of Alice\n",
    "Qa = apply_double_and_add_method(G = G, k = ka, p = p)\n",
    "\n",
    "# random key of Alice (secret)\n",
    "ra = random.getrandbits(256)\n",
    "\n",
    "# random point of Alice (public)\n",
    "Ra = apply_double_and_add_method(G = G, k = ra, p = p)"
   ]
  },
  {
   "cell_type": "code",
   "execution_count": 9,
   "id": "adcefd3b",
   "metadata": {},
   "outputs": [],
   "source": [
    "# private key of Bob\n",
    "kb = random.getrandbits(256)\n",
    "\n",
    "# public key of Bob\n",
    "Qb = apply_double_and_add_method(G = G, k = kb, p = p)\n",
    "\n",
    "# random key of Bob (secret)\n",
    "rb = random.getrandbits(256)\n",
    "\n",
    "# random point of Bob (public)\n",
    "Rb = apply_double_and_add_method(G = G, k = rb, p = p)"
   ]
  },
  {
   "cell_type": "markdown",
   "id": "0735452b",
   "metadata": {},
   "source": [
    "# Signatures"
   ]
  },
  {
   "cell_type": "code",
   "execution_count": 10,
   "id": "ffc0d1bf",
   "metadata": {},
   "outputs": [],
   "source": [
    "# Alice sends sa to Bob\n",
    "sa = ( ra + bar(Ra) * ka ) % n"
   ]
  },
  {
   "cell_type": "code",
   "execution_count": 11,
   "id": "aa76eaa1",
   "metadata": {},
   "outputs": [],
   "source": [
    "# Bob sends sb to Alice\n",
    "sb = ( rb + bar(Rb) * kb ) % n"
   ]
  },
  {
   "cell_type": "markdown",
   "id": "555158d9",
   "metadata": {},
   "source": [
    "# Key Exchange"
   ]
  },
  {
   "cell_type": "code",
   "execution_count": 12,
   "id": "777ea7ad",
   "metadata": {},
   "outputs": [],
   "source": [
    "# Alice calculate Ja\n",
    "# Ja = h x sa x (Rb + Rb_bar x Qb)\n",
    "Ja = apply_double_and_add_method(G = Qb, k = bar(Rb), p = p)\n",
    "Ja = add_points(P = Rb, Q = Ja, p = p)\n",
    "Ja = apply_double_and_add_method(G = Ja, k = h*sa, p = p)"
   ]
  },
  {
   "cell_type": "code",
   "execution_count": 15,
   "id": "6321abed",
   "metadata": {},
   "outputs": [
    {
     "data": {
      "text/plain": [
       "(91331604342144154413973906479535045783690647037523080316731432691872424541979,\n",
       " 63523924259333960066627705029355839858064013109919954201524063163418993487432)"
      ]
     },
     "execution_count": 15,
     "metadata": {},
     "output_type": "execute_result"
    }
   ],
   "source": [
    "Ja"
   ]
  },
  {
   "cell_type": "code",
   "execution_count": 13,
   "id": "4ede0904",
   "metadata": {},
   "outputs": [],
   "source": [
    "# Bob calculates Jb\n",
    "# Jb = h x sb x (Ra + Ra_bar x Qa)\n",
    "Jb = apply_double_and_add_method(G = Qa, k = bar(Ra), p = p)\n",
    "Jb = add_points(P = Ra, Q = Jb, p = p)\n",
    "Jb = apply_double_and_add_method(G = Jb, k = h*sb, p = p)"
   ]
  },
  {
   "cell_type": "code",
   "execution_count": 16,
   "id": "3e26c97f",
   "metadata": {},
   "outputs": [
    {
     "data": {
      "text/plain": [
       "(91331604342144154413973906479535045783690647037523080316731432691872424541979,\n",
       " 63523924259333960066627705029355839858064013109919954201524063163418993487432)"
      ]
     },
     "execution_count": 16,
     "metadata": {},
     "output_type": "execute_result"
    }
   ],
   "source": [
    "Jb"
   ]
  },
  {
   "cell_type": "code",
   "execution_count": 14,
   "id": "7d369580",
   "metadata": {},
   "outputs": [],
   "source": [
    "assert Ja == Jb"
   ]
  },
  {
   "cell_type": "markdown",
   "id": "66173136",
   "metadata": {},
   "source": [
    "# Proof"
   ]
  },
  {
   "cell_type": "markdown",
   "id": "31b71d7d",
   "metadata": {},
   "source": [
    "Alice calculates:\n",
    "\n",
    "    Ja = h x sa x (Rb + Rb_bar x Qb)\n",
    "\n",
    "    Ja = h x sa x (rb x G + Rb_bar x kb x G)\n",
    "\n",
    "    Ja = h x sa x (rb + Rb_bar x kb) x G\n",
    "\n",
    "    Ja = h x sa x sb x G\n",
    "\n",
    "Bob calculates: \n",
    "\n",
    "    Jb = h x sb x (Ra + Ra_bar x Qa)\n",
    "\n",
    "    Jb = h x sb x (ra x G + Ra_bar x ka x G)\n",
    "\n",
    "    Jb = h x sb x (ra + Ra_bar x ka) x G\n",
    "\n",
    "    Jb = h x sb x sa x G\n",
    "\n",
    "So, Alice and Bob must calculate same point!\n",
    "\n",
    "    Ja = Jb"
   ]
  }
 ],
 "metadata": {
  "kernelspec": {
   "display_name": "Python 3 (ipykernel)",
   "language": "python",
   "name": "python3"
  },
  "language_info": {
   "codemirror_mode": {
    "name": "ipython",
    "version": 3
   },
   "file_extension": ".py",
   "mimetype": "text/x-python",
   "name": "python",
   "nbconvert_exporter": "python",
   "pygments_lexer": "ipython3",
   "version": "3.8.12"
  }
 },
 "nbformat": 4,
 "nbformat_minor": 5
}
