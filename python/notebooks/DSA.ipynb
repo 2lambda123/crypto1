{
 "cells": [
  {
   "cell_type": "markdown",
   "id": "063b1c05",
   "metadata": {},
   "source": [
    "# Digital Signature Algorithm (DSA)"
   ]
  },
  {
   "cell_type": "code",
   "execution_count": 1,
   "id": "b79412c3",
   "metadata": {},
   "outputs": [],
   "source": [
    "import random\n",
    "import hashlib"
   ]
  },
  {
   "cell_type": "markdown",
   "id": "d8762ca8",
   "metadata": {},
   "source": [
    "# Public Configuration"
   ]
  },
  {
   "cell_type": "code",
   "execution_count": 2,
   "id": "0749d96d",
   "metadata": {},
   "outputs": [],
   "source": [
    "\"\"\"\n",
    "# To generate random p and q pair for DSA\n",
    "# !pip install pycryptodome\n",
    "from Crypto.PublicKey import DSA\n",
    "key = DSA.generate(3072)\n",
    "p, q = key.p, key.q\n",
    "\"\"\""
   ]
  },
  {
   "cell_type": "code",
   "execution_count": 5,
   "id": "9f3d3684",
   "metadata": {},
   "outputs": [],
   "source": [
    "# p, q = (283, 47)\n",
    "# p, q = (1279, 71)\n",
    "\n",
    "p = int (\"\\\n",
    "368577123415647035185869509923454362988806654876528082212642441963073\\\n",
    "112178399735415809071414511788930869249295250430304540353013866431229\\\n",
    "965510814733779933506798365268561425933870873229773800684661220325186\\\n",
    "508845233129736449679530102708242450177182372322415658482081901982139\\\n",
    "935504459436526193127136706104380369832924830561868635645974615813718\\\n",
    "599034288471386879791087503489121436698353515121613823867525619537313\\\n",
    "836546517502082093400007321208415057847562620627644914725375992993318\\\n",
    "465393374569764496785505998125381607827118352697037326000376764847745\\\n",
    "255637988916261264753020692214535700561224725217079718071094435237402\\\n",
    "156088273408028838936890398130926616753252644546343571080376158118499\\\n",
    "400126944433056814392717271382689271187098581742948664096320444706415\\\n",
    "422463846704028520445125935059579157543820582424507879000158982185479\\\n",
    "411941493007828836744389091928984640165167590618063453847542820383591\\\n",
    "5397282804819083435616816897\")\n",
    "\n",
    "q = 65032841498903519040222055260781303700863228372896251521604890600319447022433"
   ]
  },
  {
   "cell_type": "code",
   "execution_count": 6,
   "id": "8fa8801f",
   "metadata": {},
   "outputs": [],
   "source": [
    "assert (p - 1) % q == 0"
   ]
  },
  {
   "cell_type": "code",
   "execution_count": 7,
   "id": "866109a8",
   "metadata": {},
   "outputs": [],
   "source": [
    "a = int( (p - 1) // q )"
   ]
  },
  {
   "cell_type": "code",
   "execution_count": 8,
   "id": "fcd3cc4d",
   "metadata": {},
   "outputs": [
    {
     "name": "stdout",
     "output_type": "stream",
     "text": [
      "p is 3072 bits integer\n",
      "q is 256 bits integer\n"
     ]
    }
   ],
   "source": [
    "print(f\"p is {len(bin(p)[2:])} bits integer\")\n",
    "print(f\"q is {len(bin(q)[2:])} bits integer\")"
   ]
  },
  {
   "cell_type": "code",
   "execution_count": 11,
   "id": "60f9493d",
   "metadata": {
    "scrolled": true
   },
   "outputs": [],
   "source": [
    "h = random.randint(2, p-2)\n",
    "\n",
    "# calculate generator g\n",
    "g = pow(h, a, p)\n",
    "\n",
    "assert g > 1\n",
    "assert pow(g, q, p) == 1"
   ]
  },
  {
   "cell_type": "markdown",
   "id": "bb8739c1",
   "metadata": {},
   "source": [
    "# Generating Keys"
   ]
  },
  {
   "cell_type": "code",
   "execution_count": 12,
   "id": "79df23d7",
   "metadata": {},
   "outputs": [],
   "source": [
    "# private key of Alice\n",
    "x = random.randint(1, q-1)"
   ]
  },
  {
   "cell_type": "code",
   "execution_count": 13,
   "id": "70a5a663",
   "metadata": {},
   "outputs": [],
   "source": [
    "# public key of Alice\n",
    "y = pow(g, x, p)"
   ]
  },
  {
   "cell_type": "code",
   "execution_count": 14,
   "id": "6763858e",
   "metadata": {},
   "outputs": [
    {
     "name": "stdout",
     "output_type": "stream",
     "text": [
      "public key is 2537274542713973759728732535631537592622195502536814905848783605293501974712818948062042709423984685755965884261110863001262960999327779569027244173916711161068657094262221525949900005188481066809119183021560878577370201190785788970889364757835565474489891200612806867384355949686039069042382519897456040051835381732717848587733826232061898716634590959031831012776383485705753428279401258416396889787140267872761527084391094995435587013849391381591678233390182141655061173746054183533933270930921333164929134109090011976093405576423830798976442806126653189384280058234310177216652016516375387622671439586682498339645236050470993030677642041408239606122300224728498020607402457802664109971061162298868815684943461565590412380796352090113346471412524310480855627160595405151667613738149524193716644606684123592761128708751782536543830351917683863159703332022006363102143204624815663846813695252963884795672830187304378404399513\n"
     ]
    }
   ],
   "source": [
    "print(f\"public key is {y}\")"
   ]
  },
  {
   "cell_type": "code",
   "execution_count": 15,
   "id": "368839bf",
   "metadata": {},
   "outputs": [],
   "source": [
    "# public arguments: p, q, a, g"
   ]
  },
  {
   "cell_type": "markdown",
   "id": "71c104ef",
   "metadata": {},
   "source": [
    "# Signing a message"
   ]
  },
  {
   "cell_type": "code",
   "execution_count": 16,
   "id": "f2c2dad9",
   "metadata": {},
   "outputs": [],
   "source": [
    "def find_hash(m) -> int:\n",
    "    \n",
    "    if isinstance(m, int):\n",
    "        m = str(m)\n",
    "    \n",
    "    # to bytes\n",
    "    m = str.encode(m)\n",
    "        \n",
    "    hash_value = hashlib.sha1(m).digest()\n",
    "    # Convert the hash value to an integer\n",
    "    return int.from_bytes(hash_value, 'big') % q"
   ]
  },
  {
   "cell_type": "code",
   "execution_count": 17,
   "id": "c20e477d",
   "metadata": {},
   "outputs": [],
   "source": [
    "# random key\n",
    "k = random.randint(1, q-1)"
   ]
  },
  {
   "cell_type": "code",
   "execution_count": 18,
   "id": "418b4e3b",
   "metadata": {},
   "outputs": [],
   "source": [
    "r = pow(g, k, p) % q"
   ]
  },
  {
   "cell_type": "code",
   "execution_count": 19,
   "id": "1b4c7a92",
   "metadata": {},
   "outputs": [],
   "source": [
    "message = \"attack tomorrow!\""
   ]
  },
  {
   "cell_type": "code",
   "execution_count": 20,
   "id": "ee06b45a",
   "metadata": {},
   "outputs": [],
   "source": [
    "hash_value = find_hash(message)"
   ]
  },
  {
   "cell_type": "code",
   "execution_count": 21,
   "id": "4ccd181b",
   "metadata": {},
   "outputs": [],
   "source": [
    "s = ( pow(k, -1, q) * (hash_value + x * r) ) % q"
   ]
  },
  {
   "cell_type": "code",
   "execution_count": 22,
   "id": "e1f8b2fd",
   "metadata": {},
   "outputs": [],
   "source": [
    "assert r != 0 and s != 0"
   ]
  },
  {
   "cell_type": "code",
   "execution_count": 23,
   "id": "0b662d18",
   "metadata": {},
   "outputs": [
    {
     "name": "stdout",
     "output_type": "stream",
     "text": [
      "Signature of message 'attack tomorrow!' is (r=24237691922726800337560444627135898348259583396094931661288502728197985066365, s=25656973189530970197943839068440842897634893307294833301781687664602365625445)\n"
     ]
    }
   ],
   "source": [
    "# signature\n",
    "print(f\"Signature of message '{message}' is (r={r}, s={s})\")"
   ]
  },
  {
   "cell_type": "markdown",
   "id": "77ef70ca",
   "metadata": {},
   "source": [
    "# Verification\n",
    "\n",
    "Bob receives message, (r, s) pair as signature, y as public key of Alice and (p, q, a, g) public arguments."
   ]
  },
  {
   "cell_type": "code",
   "execution_count": 24,
   "id": "f9502fb9",
   "metadata": {},
   "outputs": [],
   "source": [
    "hash_value = find_hash(message)"
   ]
  },
  {
   "cell_type": "code",
   "execution_count": 25,
   "id": "94c01cbd",
   "metadata": {},
   "outputs": [],
   "source": [
    "w = pow(s, -1, q)"
   ]
  },
  {
   "cell_type": "code",
   "execution_count": 26,
   "id": "8df6e1fc",
   "metadata": {},
   "outputs": [],
   "source": [
    "u1 = (hash_value * w) % q"
   ]
  },
  {
   "cell_type": "code",
   "execution_count": 27,
   "id": "8cb7e17e",
   "metadata": {},
   "outputs": [],
   "source": [
    "u2 = (r * w) % q"
   ]
  },
  {
   "cell_type": "code",
   "execution_count": 28,
   "id": "7abd2036",
   "metadata": {},
   "outputs": [],
   "source": [
    "v = ( ( pow(g, u1, p) * pow(y, u2, p) ) % p ) % q"
   ]
  },
  {
   "cell_type": "code",
   "execution_count": 29,
   "id": "1ff41196",
   "metadata": {},
   "outputs": [],
   "source": [
    "assert v == r"
   ]
  },
  {
   "cell_type": "markdown",
   "id": "7bc8ca8a",
   "metadata": {},
   "source": [
    "# Proof"
   ]
  },
  {
   "cell_type": "markdown",
   "id": "c4ea3f0a",
   "metadata": {},
   "source": [
    "Alice calculated s from the signature as \n",
    "\n",
    "s = k^-1 * (H + x * r) mod q\n",
    "\n",
    "Find k from this equation\n",
    "\n",
    "k = s^-1 * (H + x * r) mod q\n",
    "\n",
    "k = H * s^-1 + x * r * s^-1 mod q\n",
    "\n",
    "Multiplicative inverse of s was represented as w in the verification\n",
    "\n",
    "k = c mod q\n",
    "\n",
    "This equation can be used in the exponent of generator g\n",
    "\n",
    "g^k = g^(H * w + x * r * w)\n",
    "\n",
    "According to product rule of exponents, this can be represented as\n",
    "\n",
    "g^k = g^(H * w) * g^(x * r * w)\n",
    "\n",
    "According to power of a power rule, this can be represented as\n",
    "\n",
    "g^k = g^(H * w) * (g^x)^(r * w)\n",
    "\n",
    "G to the power of x is equal to the public key of Alice\n",
    "\n",
    "g^k = g^(H * w) * y^(r * w)\n",
    "\n",
    "We represented H*w as u1 and r*w as u2 in verification\n",
    "\n",
    "g^k = g^u1 * y^u1\n",
    "\n",
    "Alice calculated r from signature as g to the power of k\n",
    "\n",
    "r = g^u1 * y^u1\n",
    "\n",
    "Bob verifies this equation in the verification already!"
   ]
  }
 ],
 "metadata": {
  "kernelspec": {
   "display_name": "Python 3 (ipykernel)",
   "language": "python",
   "name": "python3"
  },
  "language_info": {
   "codemirror_mode": {
    "name": "ipython",
    "version": 3
   },
   "file_extension": ".py",
   "mimetype": "text/x-python",
   "name": "python",
   "nbconvert_exporter": "python",
   "pygments_lexer": "ipython3",
   "version": "3.8.12"
  }
 },
 "nbformat": 4,
 "nbformat_minor": 5
}
