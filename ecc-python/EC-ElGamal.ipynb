{
 "cells": [
  {
   "cell_type": "code",
   "execution_count": 1,
   "id": "0254bfb3",
   "metadata": {},
   "outputs": [],
   "source": [
    "# y^2 = x^3 + a*x + b"
   ]
  },
  {
   "cell_type": "code",
   "execution_count": 2,
   "id": "48638cc0",
   "metadata": {},
   "outputs": [],
   "source": [
    "def add_points(P, Q, p):\n",
    "    x1, y1 = P\n",
    "    x2, y2 = Q\n",
    "    \n",
    "    if x1 == x2 and y1 == y2:\n",
    "        beta = (3*x1*x2 + a) * pow(2*y1, -1, p)\n",
    "    else:\n",
    "        beta = (y2 - y1) * pow(x2 - x1, -1, p)\n",
    "    \n",
    "    x3 = (beta*beta - x1 - x2) % p\n",
    "    y3 = (beta * (x1 - x3) - y1) % p\n",
    "    \n",
    "    is_on_curve((x3, y3), p)\n",
    "        \n",
    "    return x3, y3\n",
    "\n",
    "def is_on_curve(P, p):\n",
    "    x, y = P\n",
    "    assert (y*y) % p == ( pow(x, 3, p) + a*x + b ) % p\n",
    "    \n",
    "def apply_double_and_add_method(G, k, p):\n",
    "    target_point = G\n",
    "    \n",
    "    k_binary = bin(k)[2:] #0b1111111001\n",
    "    \n",
    "    for i in range(1, len(k_binary)):\n",
    "        current_bit = k_binary[i: i+1]\n",
    "        \n",
    "        # doubling - always\n",
    "        target_point = add_points(target_point, target_point, p)\n",
    "        \n",
    "        if current_bit == \"1\":\n",
    "            target_point = add_points(target_point, G, p)\n",
    "    \n",
    "    is_on_curve(target_point, p)\n",
    "    \n",
    "    return target_point"
   ]
  },
  {
   "cell_type": "code",
   "execution_count": 3,
   "id": "06aca653",
   "metadata": {},
   "outputs": [],
   "source": [
    "# Secp256k1\n",
    "a = 0; b = 7\n",
    "G = (55066263022277343669578718895168534326250603453777594175500187360389116729240, \n",
    "     32670510020758816978083085130507043184471273380659243275938904335757337482424)\n",
    "\n",
    "p = pow(2, 256) - pow(2, 32) - pow(2, 9) - pow(2, 8) - pow(2, 7) - pow(2, 6) - pow(2, 4) - pow(2, 0)\n",
    "n = 115792089237316195423570985008687907852837564279074904382605163141518161494337"
   ]
  },
  {
   "cell_type": "code",
   "execution_count": 4,
   "id": "565de55b",
   "metadata": {},
   "outputs": [],
   "source": [
    "is_on_curve(G, p)"
   ]
  },
  {
   "cell_type": "markdown",
   "id": "91633d3e",
   "metadata": {},
   "source": [
    "# Elliptic Curve ElGamal"
   ]
  },
  {
   "cell_type": "code",
   "execution_count": 5,
   "id": "aaf5d8d6",
   "metadata": {},
   "outputs": [],
   "source": [
    "import random"
   ]
  },
  {
   "cell_type": "code",
   "execution_count": 6,
   "id": "ac8604d7",
   "metadata": {},
   "outputs": [],
   "source": [
    "# alice \n",
    "ka = random.getrandbits(256) # private of Alice\n",
    "Qa = apply_double_and_add_method(G = G, k = ka, p = p)"
   ]
  },
  {
   "cell_type": "markdown",
   "id": "668c9270",
   "metadata": {},
   "source": [
    "# encryption"
   ]
  },
  {
   "cell_type": "code",
   "execution_count": 7,
   "id": "f3d9b55b",
   "metadata": {},
   "outputs": [],
   "source": [
    "# bob\n",
    "m = 23061912\n",
    "s = apply_double_and_add_method(G = G, k = m, p = p)\n",
    "\n",
    "r = random.getrandbits(128)\n",
    "c1 = apply_double_and_add_method(G = G, k = r, p = p) \n",
    "\n",
    "c2 = apply_double_and_add_method(G = Qa, k = r, p = p)\n",
    "c2 = add_points(c2, s, p)"
   ]
  },
  {
   "cell_type": "markdown",
   "id": "92ecb329",
   "metadata": {},
   "source": [
    "# decryption"
   ]
  },
  {
   "cell_type": "code",
   "execution_count": null,
   "id": "84c88e76",
   "metadata": {},
   "outputs": [],
   "source": [
    "# s_prime = c2 - ka x c1\n",
    "# s_prime = c2 + ( ka x -c1)\n",
    "# (x, y) + (x, -y) = O"
   ]
  },
  {
   "cell_type": "code",
   "execution_count": 8,
   "id": "208671a1",
   "metadata": {},
   "outputs": [],
   "source": [
    "c1_prime = (c1[0], (-1*c1[1]) % p)"
   ]
  },
  {
   "cell_type": "code",
   "execution_count": 10,
   "id": "4cf3fa26",
   "metadata": {},
   "outputs": [],
   "source": [
    "s_prime = apply_double_and_add_method(G = c1_prime, k = ka, p = p)\n",
    "s_prime = add_points(P = c2, Q = s_prime, p = p)"
   ]
  },
  {
   "cell_type": "code",
   "execution_count": 11,
   "id": "2e311a70",
   "metadata": {},
   "outputs": [
    {
     "data": {
      "text/plain": [
       "(101401888938080707466461718009381950095311426580467620560673978804974259848061,\n",
       " 81617838766714377738166229284883214383180826546122608693522719057922160918473)"
      ]
     },
     "execution_count": 11,
     "metadata": {},
     "output_type": "execute_result"
    }
   ],
   "source": [
    "s_prime"
   ]
  },
  {
   "cell_type": "code",
   "execution_count": 12,
   "id": "fb30050a",
   "metadata": {},
   "outputs": [
    {
     "data": {
      "text/plain": [
       "(101401888938080707466461718009381950095311426580467620560673978804974259848061,\n",
       " 81617838766714377738166229284883214383180826546122608693522719057922160918473)"
      ]
     },
     "execution_count": 12,
     "metadata": {},
     "output_type": "execute_result"
    }
   ],
   "source": [
    "s"
   ]
  }
 ],
 "metadata": {
  "kernelspec": {
   "display_name": "Python 3 (ipykernel)",
   "language": "python",
   "name": "python3"
  },
  "language_info": {
   "codemirror_mode": {
    "name": "ipython",
    "version": 3
   },
   "file_extension": ".py",
   "mimetype": "text/x-python",
   "name": "python",
   "nbconvert_exporter": "python",
   "pygments_lexer": "ipython3",
   "version": "3.8.12"
  }
 },
 "nbformat": 4,
 "nbformat_minor": 5
}
