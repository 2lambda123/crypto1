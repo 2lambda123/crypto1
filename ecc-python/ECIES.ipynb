{
 "cells": [
  {
   "cell_type": "code",
   "execution_count": 19,
   "id": "cbe1967a",
   "metadata": {},
   "outputs": [],
   "source": [
    "import random\n",
    "import hashlib\n",
    "from Crypto.Cipher import AES\n",
    "import hmac"
   ]
  },
  {
   "cell_type": "code",
   "execution_count": 2,
   "id": "0254bfb3",
   "metadata": {},
   "outputs": [],
   "source": [
    "# y^2 = x^3 + a*x + b"
   ]
  },
  {
   "cell_type": "code",
   "execution_count": 3,
   "id": "48638cc0",
   "metadata": {},
   "outputs": [],
   "source": [
    "def add_points(P, Q, p):\n",
    "    x1, y1 = P\n",
    "    x2, y2 = Q\n",
    "    \n",
    "    if x1 == x2 and y1 == y2:\n",
    "        beta = (3*x1*x2 + a) * pow(2*y1, -1, p)\n",
    "    else:\n",
    "        beta = (y2 - y1) * pow(x2 - x1, -1, p)\n",
    "    \n",
    "    x3 = (beta*beta - x1 - x2) % p\n",
    "    y3 = (beta * (x1 - x3) - y1) % p\n",
    "    \n",
    "    is_on_curve((x3, y3), p)\n",
    "        \n",
    "    return x3, y3\n",
    "\n",
    "def is_on_curve(P, p):\n",
    "    x, y = P\n",
    "    assert (y*y) % p == ( pow(x, 3, p) + a*x + b ) % p\n",
    "    \n",
    "def apply_double_and_add_method(G, k, p):\n",
    "    target_point = G\n",
    "    \n",
    "    k_binary = bin(k)[2:] #0b1111111001\n",
    "    \n",
    "    for i in range(1, len(k_binary)):\n",
    "        current_bit = k_binary[i: i+1]\n",
    "        \n",
    "        # doubling - always\n",
    "        target_point = add_points(target_point, target_point, p)\n",
    "        \n",
    "        if current_bit == \"1\":\n",
    "            target_point = add_points(target_point, G, p)\n",
    "    \n",
    "    is_on_curve(target_point, p)\n",
    "    \n",
    "    return target_point"
   ]
  },
  {
   "cell_type": "code",
   "execution_count": 4,
   "id": "06aca653",
   "metadata": {},
   "outputs": [],
   "source": [
    "# Secp256k1\n",
    "a = 0; b = 7\n",
    "G = (55066263022277343669578718895168534326250603453777594175500187360389116729240, \n",
    "     32670510020758816978083085130507043184471273380659243275938904335757337482424)\n",
    "\n",
    "p = pow(2, 256) - pow(2, 32) - pow(2, 9) - pow(2, 8) - pow(2, 7) - pow(2, 6) - pow(2, 4) - pow(2, 0)\n",
    "n = 115792089237316195423570985008687907852837564279074904382605163141518161494337"
   ]
  },
  {
   "cell_type": "code",
   "execution_count": 5,
   "id": "565de55b",
   "metadata": {},
   "outputs": [],
   "source": [
    "is_on_curve(G, p)"
   ]
  },
  {
   "cell_type": "markdown",
   "id": "53f559ae",
   "metadata": {},
   "source": [
    "# Alice generates her private and public key"
   ]
  },
  {
   "cell_type": "code",
   "execution_count": 6,
   "id": "bf1a8ae6",
   "metadata": {},
   "outputs": [],
   "source": [
    "# private key\n",
    "ka = random.getrandbits(256)\n",
    "\n",
    "# public key\n",
    "Q = apply_double_and_add_method(G = G, k = ka, p = p)"
   ]
  },
  {
   "cell_type": "markdown",
   "id": "3015d3cb",
   "metadata": {},
   "source": [
    "# Bob generates a random key"
   ]
  },
  {
   "cell_type": "code",
   "execution_count": 7,
   "id": "3cd0d779",
   "metadata": {},
   "outputs": [],
   "source": [
    "rb = random.getrandbits(256)\n",
    "\n",
    "# public - send this point to Alice\n",
    "U = apply_double_and_add_method(G = G, k = rb, p = p)\n",
    "\n",
    "# private - keeps secret\n",
    "T = apply_double_and_add_method(G = Q, k = rb, p = p)"
   ]
  },
  {
   "cell_type": "markdown",
   "id": "ef80440f",
   "metadata": {},
   "source": [
    "# Key Derivation Function (Public)"
   ]
  },
  {
   "cell_type": "code",
   "execution_count": 20,
   "id": "db269d97",
   "metadata": {},
   "outputs": [],
   "source": [
    "def derive_keys(T):\n",
    "    tx, ty = T\n",
    "    \n",
    "    tx_binary = bin(tx)[2:]\n",
    "    \n",
    "    #192-bits\n",
    "    tx_binary_cropped = tx_binary[0:192]\n",
    "    \n",
    "    tx_restored = int(tx_binary_cropped, 2)\n",
    "    \n",
    "    #sha-256\n",
    "    hash_hex = hashlib.sha256(str.encode(str(tx_restored))).hexdigest()\n",
    "    hash_binary = bin(int(hash_hex, 16))[2:]\n",
    "    \n",
    "    k1 = int(hash_binary[0:128], 2).to_bytes(16, byteorder=\"big\")\n",
    "    k2 = int(hash_binary[128:], 2).to_bytes(16, byteorder=\"big\")\n",
    "    \n",
    "    return k1, k2\n",
    "\n",
    "def find_mac(message, key):\n",
    "    return hmac.new(key, message, hashlib.sha256).hexdigest()"
   ]
  },
  {
   "cell_type": "code",
   "execution_count": 12,
   "id": "8ec0af86",
   "metadata": {},
   "outputs": [],
   "source": [
    "k1, k2 = derive_keys(T)"
   ]
  },
  {
   "cell_type": "markdown",
   "id": "4ccff7d9",
   "metadata": {},
   "source": [
    "# Encryption"
   ]
  },
  {
   "cell_type": "code",
   "execution_count": 15,
   "id": "b220a5bb",
   "metadata": {},
   "outputs": [],
   "source": [
    "msg = \"attack tomorrow!\""
   ]
  },
  {
   "cell_type": "code",
   "execution_count": 16,
   "id": "57773a02",
   "metadata": {},
   "outputs": [],
   "source": [
    "obj_bob = AES.new(k1)"
   ]
  },
  {
   "cell_type": "code",
   "execution_count": 17,
   "id": "0df05ade",
   "metadata": {},
   "outputs": [],
   "source": [
    "c = obj_bob.encrypt(msg)"
   ]
  },
  {
   "cell_type": "code",
   "execution_count": 18,
   "id": "ccf2312c",
   "metadata": {},
   "outputs": [
    {
     "data": {
      "text/plain": [
       "b',bgt\\xd26\\x84\\xd5\\xa3\\xad\"d\\x11\\x95\\x98\\x1e'"
      ]
     },
     "execution_count": 18,
     "metadata": {},
     "output_type": "execute_result"
    }
   ],
   "source": [
    "c"
   ]
  },
  {
   "cell_type": "code",
   "execution_count": 21,
   "id": "dc6e1800",
   "metadata": {},
   "outputs": [],
   "source": [
    "r = find_mac(message = c, key=k2)"
   ]
  },
  {
   "cell_type": "code",
   "execution_count": 22,
   "id": "a80516f7",
   "metadata": {},
   "outputs": [
    {
     "data": {
      "text/plain": [
       "((74167907263546634922179378596423937735743665773803862171882405761903892922303,\n",
       "  52034086156418309202011483943380820869379888355606836194274686146628789809265),\n",
       " b',bgt\\xd26\\x84\\xd5\\xa3\\xad\"d\\x11\\x95\\x98\\x1e',\n",
       " '2e0456b115686af2e5d791a2529d19411f816b77bb2b12ea8dab9eef4bc204ef')"
      ]
     },
     "execution_count": 22,
     "metadata": {},
     "output_type": "execute_result"
    }
   ],
   "source": [
    "(U, c, r)"
   ]
  },
  {
   "cell_type": "markdown",
   "id": "42faf9bd",
   "metadata": {},
   "source": [
    "# Decryption"
   ]
  },
  {
   "cell_type": "code",
   "execution_count": null,
   "id": "b2e06689",
   "metadata": {},
   "outputs": [],
   "source": [
    "# (U, c, r)"
   ]
  },
  {
   "cell_type": "code",
   "execution_count": 23,
   "id": "a387467f",
   "metadata": {},
   "outputs": [],
   "source": [
    "T_prime = apply_double_and_add_method(G = U, k = ka, p = p)"
   ]
  },
  {
   "cell_type": "code",
   "execution_count": 24,
   "id": "f8d296f9",
   "metadata": {},
   "outputs": [],
   "source": [
    "assert T_prime == T"
   ]
  },
  {
   "cell_type": "code",
   "execution_count": 25,
   "id": "acf7163d",
   "metadata": {},
   "outputs": [],
   "source": [
    "k1_prime, k2_prime = derive_keys(T_prime)"
   ]
  },
  {
   "cell_type": "code",
   "execution_count": 26,
   "id": "cf1a6717",
   "metadata": {},
   "outputs": [],
   "source": [
    "r_prime = find_mac(message = c, key = k2_prime)"
   ]
  },
  {
   "cell_type": "code",
   "execution_count": 27,
   "id": "1810c48f",
   "metadata": {},
   "outputs": [],
   "source": [
    "assert r_prime == r"
   ]
  },
  {
   "cell_type": "code",
   "execution_count": 29,
   "id": "56f805da",
   "metadata": {},
   "outputs": [],
   "source": [
    "obj_alice = AES.new(k1_prime)\n",
    "plaintext = obj_alice.decrypt(c)"
   ]
  },
  {
   "cell_type": "code",
   "execution_count": 30,
   "id": "e24db791",
   "metadata": {},
   "outputs": [
    {
     "data": {
      "text/plain": [
       "b'attack tomorrow!'"
      ]
     },
     "execution_count": 30,
     "metadata": {},
     "output_type": "execute_result"
    }
   ],
   "source": [
    "plaintext"
   ]
  }
 ],
 "metadata": {
  "kernelspec": {
   "display_name": "Python 3 (ipykernel)",
   "language": "python",
   "name": "python3"
  },
  "language_info": {
   "codemirror_mode": {
    "name": "ipython",
    "version": 3
   },
   "file_extension": ".py",
   "mimetype": "text/x-python",
   "name": "python",
   "nbconvert_exporter": "python",
   "pygments_lexer": "ipython3",
   "version": "3.8.12"
  }
 },
 "nbformat": 4,
 "nbformat_minor": 5
}
