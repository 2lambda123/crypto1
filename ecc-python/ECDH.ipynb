{
 "cells": [
  {
   "cell_type": "code",
   "execution_count": null,
   "id": "0254bfb3",
   "metadata": {},
   "outputs": [],
   "source": [
    "# y^2 = x^3 + a*x + b"
   ]
  },
  {
   "cell_type": "code",
   "execution_count": 3,
   "id": "48638cc0",
   "metadata": {},
   "outputs": [],
   "source": [
    "def add_points(P, Q, p):\n",
    "    x1, y1 = P\n",
    "    x2, y2 = Q\n",
    "    \n",
    "    if x1 == x2 and y1 == y2:\n",
    "        beta = (3*x1*x2 + a) * pow(2*y1, -1, p)\n",
    "    else:\n",
    "        beta = (y2 - y1) * pow(x2 - x1, -1, p)\n",
    "    \n",
    "    x3 = (beta*beta - x1 - x2) % p\n",
    "    y3 = (beta * (x1 - x3) - y1) % p\n",
    "    \n",
    "    is_on_curve((x3, y3), p)\n",
    "        \n",
    "    return x3, y3\n",
    "\n",
    "def is_on_curve(P, p):\n",
    "    x, y = P\n",
    "    assert (y*y) % p == ( pow(x, 3, p) + a*x + b ) % p\n",
    "    \n",
    "def apply_double_and_add_method(G, k, p):\n",
    "    target_point = G\n",
    "    \n",
    "    k_binary = bin(k)[2:] #0b1111111001\n",
    "    \n",
    "    for i in range(1, len(k_binary)):\n",
    "        current_bit = k_binary[i: i+1]\n",
    "        \n",
    "        # doubling - always\n",
    "        target_point = add_points(target_point, target_point, p)\n",
    "        \n",
    "        if current_bit == \"1\":\n",
    "            target_point = add_points(target_point, G, p)\n",
    "    \n",
    "    is_on_curve(target_point, p)\n",
    "    \n",
    "    return target_point"
   ]
  },
  {
   "cell_type": "code",
   "execution_count": 4,
   "id": "06aca653",
   "metadata": {},
   "outputs": [],
   "source": [
    "# Secp256k1\n",
    "a = 0; b = 7\n",
    "G = (55066263022277343669578718895168534326250603453777594175500187360389116729240, \n",
    "     32670510020758816978083085130507043184471273380659243275938904335757337482424)\n",
    "\n",
    "p = pow(2, 256) - pow(2, 32) - pow(2, 9) - pow(2, 8) - pow(2, 7) - pow(2, 6) - pow(2, 4) - pow(2, 0)\n",
    "n = 115792089237316195423570985008687907852837564279074904382605163141518161494337"
   ]
  },
  {
   "cell_type": "code",
   "execution_count": 5,
   "id": "565de55b",
   "metadata": {},
   "outputs": [],
   "source": [
    "is_on_curve(G, p)"
   ]
  },
  {
   "cell_type": "markdown",
   "id": "1b969a06",
   "metadata": {},
   "source": [
    "# key generation"
   ]
  },
  {
   "cell_type": "code",
   "execution_count": 1,
   "id": "73d8ac30",
   "metadata": {},
   "outputs": [],
   "source": [
    "import random"
   ]
  },
  {
   "cell_type": "code",
   "execution_count": 2,
   "id": "900246c1",
   "metadata": {},
   "outputs": [],
   "source": [
    "# alice private key\n",
    "ka = random.getrandbits(256) #3072\n",
    "\n",
    "# bob private key\n",
    "kb = random.getrandbits(256)"
   ]
  },
  {
   "cell_type": "code",
   "execution_count": 6,
   "id": "e189161f",
   "metadata": {},
   "outputs": [],
   "source": [
    "# public keys\n",
    "Qa = apply_double_and_add_method(G = G, k = ka, p = p)\n",
    "Qb = apply_double_and_add_method(G = G, k = kb, p = p)"
   ]
  },
  {
   "cell_type": "code",
   "execution_count": 10,
   "id": "ba471fe2",
   "metadata": {},
   "outputs": [],
   "source": [
    "Sa = apply_double_and_add_method(G = Qb, k = ka, p = p)\n",
    "Sb = apply_double_and_add_method(G = Qa, k = kb, p = p)"
   ]
  },
  {
   "cell_type": "code",
   "execution_count": 11,
   "id": "012370ce",
   "metadata": {},
   "outputs": [
    {
     "data": {
      "text/plain": [
       "(65522095820395685502608440563183800043015195835856269096901416987417201761714,\n",
       " 85565124194875326067394526357940564735377130851976382646976716149944510107793)"
      ]
     },
     "execution_count": 11,
     "metadata": {},
     "output_type": "execute_result"
    }
   ],
   "source": [
    "Sa"
   ]
  },
  {
   "cell_type": "code",
   "execution_count": 12,
   "id": "bc51c5de",
   "metadata": {},
   "outputs": [
    {
     "data": {
      "text/plain": [
       "(65522095820395685502608440563183800043015195835856269096901416987417201761714,\n",
       " 85565124194875326067394526357940564735377130851976382646976716149944510107793)"
      ]
     },
     "execution_count": 12,
     "metadata": {},
     "output_type": "execute_result"
    }
   ],
   "source": [
    "Sb"
   ]
  }
 ],
 "metadata": {
  "kernelspec": {
   "display_name": "Python 3 (ipykernel)",
   "language": "python",
   "name": "python3"
  },
  "language_info": {
   "codemirror_mode": {
    "name": "ipython",
    "version": 3
   },
   "file_extension": ".py",
   "mimetype": "text/x-python",
   "name": "python",
   "nbconvert_exporter": "python",
   "pygments_lexer": "ipython3",
   "version": "3.8.12"
  }
 },
 "nbformat": 4,
 "nbformat_minor": 5
}
